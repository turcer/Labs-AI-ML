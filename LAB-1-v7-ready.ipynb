{
 "cells": [
  {
   "cell_type": "code",
   "execution_count": null,
   "id": "53727696-293b-47bb-b451-302184af263d",
   "metadata": {
    "id": "53727696-293b-47bb-b451-302184af263d"
   },
   "outputs": [],
   "source": []
  },
  {
   "cell_type": "markdown",
   "id": "4866f375-22e7-4922-9abc-a76cd5e3edad",
   "metadata": {
    "id": "4866f375-22e7-4922-9abc-a76cd5e3edad"
   },
   "source": [
    "# Подключение библиотек"
   ]
  },
  {
   "cell_type": "code",
   "execution_count": 52,
   "id": "c0e99f35-5fbf-4a0a-8af8-94dacd50f757",
   "metadata": {
    "id": "c0e99f35-5fbf-4a0a-8af8-94dacd50f757"
   },
   "outputs": [],
   "source": [
    "# Python 3.8\n",
    "import pandas as pd\n",
    "import numpy  as np\n",
    "import sklearn\n",
    "from sklearn.model_selection import train_test_split, cross_val_score\n",
    "\n",
    "%matplotlib inline\n",
    "from IPython.display import clear_output\n",
    "from matplotlib import pyplot as plt\n",
    "from matplotlib import cm\n",
    "import seaborn as sns\n",
    "import plotly.graph_objects as go"
   ]
  },
  {
   "cell_type": "code",
   "execution_count": 53,
   "id": "3a92ae38-7bba-420b-84bd-00afbcf58d32",
   "metadata": {
    "id": "3a92ae38-7bba-420b-84bd-00afbcf58d32"
   },
   "outputs": [],
   "source": [
    "import tensorflow as tf\n",
    "from   tensorflow.keras import layers, activations, losses, optimizers, metrics # импорт для более короткой записи"
   ]
  },
  {
   "cell_type": "code",
   "execution_count": 54,
   "id": "97ce1096-0570-42e9-90e9-23d75f4990b1",
   "metadata": {
    "colab": {
     "base_uri": "https://localhost:8080/"
    },
    "executionInfo": {
     "elapsed": 34,
     "status": "ok",
     "timestamp": 1695224320281,
     "user": {
      "displayName": "Иван Осипенко",
      "userId": "16599116897440604411"
     },
     "user_tz": -420
    },
    "id": "97ce1096-0570-42e9-90e9-23d75f4990b1",
    "outputId": "0b90852b-3d8a-4c77-864d-3f8f1ae6e70d"
   },
   "outputs": [
    {
     "name": "stdout",
     "output_type": "stream",
     "text": [
      "Num GPUs Available:  0\n"
     ]
    }
   ],
   "source": [
    "print(\"Num GPUs Available: \", len(tf.config.list_physical_devices('GPU')))\n",
    "#tf.debugging.set_log_device_placement(False)\n",
    "#tf.config.set_soft_device_placement(False)"
   ]
  },
  {
   "cell_type": "code",
   "execution_count": 55,
   "id": "dad4ee55-6849-401e-b449-def82c712c55",
   "metadata": {
    "colab": {
     "base_uri": "https://localhost:8080/"
    },
    "executionInfo": {
     "elapsed": 592,
     "status": "ok",
     "timestamp": 1695224320852,
     "user": {
      "displayName": "Иван Осипенко",
      "userId": "16599116897440604411"
     },
     "user_tz": -420
    },
    "id": "dad4ee55-6849-401e-b449-def82c712c55",
    "outputId": "9338ac74-f792-4364-c021-090e6015520f"
   },
   "outputs": [
    {
     "name": "stdout",
     "output_type": "stream",
     "text": [
      "pandas       2.1.1\n",
      "numpy        1.24.3\n",
      "sklearn      1.3.1\n",
      "tensorflow   2.12.1\n",
      "Версия Python - 3.9.13 (tags/v3.9.13:6de2ca5, May 17 2022, 16:36:42) [MSC v.1929 64 bit (AMD64)]\n",
      "Путь к интерпретатору Python - C:\\Programs\\Python39x64\\python.exe\n"
     ]
    }
   ],
   "source": [
    "# Проверка версий библиотек\n",
    "for lib in [pd, np, sklearn, tf]:\n",
    "    print(f\"{lib.__name__:<12} {lib.__version__}\")\n",
    "\n",
    "# Проверка версии и пути к выбранному интерпретатору\n",
    "import sys\n",
    "print(f\"Версия Python - {sys.version}\")\n",
    "print(f\"Путь к интерпретатору Python - {sys.executable}\")"
   ]
  },
  {
   "cell_type": "code",
   "execution_count": 56,
   "id": "0ab21890-ba0a-4bfe-a923-1a4b3ec90764",
   "metadata": {
    "id": "0ab21890-ba0a-4bfe-a923-1a4b3ec90764"
   },
   "outputs": [],
   "source": [
    "import PIL\n",
    "from PIL import ImageTk, Image, ImageDraw, ImageOps\n",
    "\n",
    "import tkinter as tk\n",
    "import datetime\n",
    "import os"
   ]
  },
  {
   "cell_type": "markdown",
   "id": "RwqM0M1YsHx6",
   "metadata": {
    "id": "RwqM0M1YsHx6"
   },
   "source": [
    "- - - - -"
   ]
  },
  {
   "cell_type": "markdown",
   "id": "99e4ec82-b9ff-4b76-a24e-16d8f1cd5d4e",
   "metadata": {
    "id": "99e4ec82-b9ff-4b76-a24e-16d8f1cd5d4e"
   },
   "source": [
    "# 1. Исследование MLP путём опроса отдельных слоёв"
   ]
  },
  {
   "cell_type": "markdown",
   "id": "b9b94358-9a45-4d11-ba2b-b0cae6d8c1fa",
   "metadata": {
    "id": "b9b94358-9a45-4d11-ba2b-b0cae6d8c1fa"
   },
   "source": [
    "## 1.1. Создание структуры и выбор начальных параметров"
   ]
  },
  {
   "cell_type": "code",
   "execution_count": 57,
   "id": "1411a38f-0bc2-4c18-9f75-10f647ebd4c0",
   "metadata": {
    "id": "1411a38f-0bc2-4c18-9f75-10f647ebd4c0"
   },
   "outputs": [],
   "source": [
    "with tf.device('/CPU:0'):\n",
    "    ###########################################\n",
    "    #▼▼▼▼▼▼▼▼▼▼▼▼▼▼▼▼▼▼▼▼▼▼▼▼▼▼▼▼▼▼▼▼▼▼▼▼▼▼▼▼▼▼\n",
    "    # 1) Параметры структуры -------------------------------------------------------------------------\n",
    "    input_size        = 1  # кол-во входных  узлов\n",
    "    hiddenLayer_size  = 3  # кол-во узлов на скрытом слое\n",
    "    output_size       = 1  # кол-во выходных узлов\n",
    "\n",
    "    # 2.1) Построение модели нейронной сети многослойного(Sequential) типа ----------------------------\n",
    "    model = tf.keras.models.Sequential()\n",
    "\n",
    "    # ДОБАВЛЕНИЕ НОВЫХ СЛОЁВ --------------------------\n",
    "    # Входной слой\n",
    "    model.add(  layers.Input(\n",
    "                    shape=(input_size,)\n",
    "    ))\n",
    "\n",
    "    #0.Linear - скрытый полносвязный слой с нейронами\n",
    "    model.add(  layers.Dense(\n",
    "                    units=hiddenLayer_size,  # параметр \"units\" - кол-во узлов/нейронов на данном слое\n",
    "                    activation=None          # параметр \"activation\" - вид функции активации\n",
    "        ))\n",
    "\n",
    "    #1.ReLU - скрытый слой нелинейной функцией активации\n",
    "    model.add(  layers.Activation(\n",
    "                    activation=activations.relu # параметр \"activation\" - вид функции активации\n",
    "        ))\n",
    "\n",
    "    #2.Linear - следующий полносвязный слой с нейронами\n",
    "    # Кол-во нейронов на последнем слое опредеяет кол-во выходных значений нейронной сети\n",
    "    model.add( layers.Dense(\n",
    "                    units=output_size,           # параметр \"units\" - кол-во узлов/нейронов на данном слое\n",
    "                    activation=None              # параметр \"activation\" - вид функции активации\n",
    "    ))"
   ]
  },
  {
   "cell_type": "code",
   "execution_count": 58,
   "id": "10715d9b-1f69-4ca8-ae70-e7570a36eabf",
   "metadata": {
    "id": "10715d9b-1f69-4ca8-ae70-e7570a36eabf"
   },
   "outputs": [],
   "source": [
    "with tf.device('/CPU:0'):\n",
    "    # 2.2) Функции потерь и функции оптимизации --------------------------------------------------------------------\n",
    "    fLoss      = losses.CategoricalCrossentropy()\n",
    "    #fLoss      = losses.BinaryCrossentropy()\n",
    "    #floss      = losses.SparseCategoricalCrossentropy()\n",
    "\n",
    "    fOptimizer = optimizers.Adam(learning_rate=0.01)\n",
    "    #fOptimizer = optimizers.SGD(learning_rate=0.01)\n",
    "    #fOptimizer = optimizers.RMSprop(learning_rate=0.01)\n",
    "\n",
    "    fMetric  = [\n",
    "                  metrics.CategoricalAccuracy(),\n",
    "                  metrics.CategoricalCrossentropy(),\n",
    "                  metrics.Precision(),\n",
    "    ]"
   ]
  },
  {
   "cell_type": "code",
   "execution_count": 59,
   "id": "d16d5ebe-2bd8-4fb6-a1b4-ca3b10cfd4cb",
   "metadata": {
    "colab": {
     "base_uri": "https://localhost:8080/"
    },
    "executionInfo": {
     "elapsed": 221,
     "status": "ok",
     "timestamp": 1694720129020,
     "user": {
      "displayName": "Иван Осипенко",
      "userId": "16599116897440604411"
     },
     "user_tz": -420
    },
    "id": "d16d5ebe-2bd8-4fb6-a1b4-ca3b10cfd4cb",
    "outputId": "b259c16b-810f-4232-8950-d1e9d619cde6",
    "scrolled": true
   },
   "outputs": [
    {
     "name": "stdout",
     "output_type": "stream",
     "text": [
      "Вывод короткой информации о структуре НС\n",
      "Model: \"sequential_2\"\n",
      "_________________________________________________________________\n",
      " Layer (type)                Output Shape              Param #   \n",
      "=================================================================\n",
      " dense_6 (Dense)             (None, 3)                 6         \n",
      "                                                                 \n",
      " activation_4 (Activation)   (None, 3)                 0         \n",
      "                                                                 \n",
      " dense_7 (Dense)             (None, 1)                 4         \n",
      "                                                                 \n",
      "=================================================================\n",
      "Total params: 10\n",
      "Trainable params: 10\n",
      "Non-trainable params: 0\n",
      "_________________________________________________________________\n",
      "None\n"
     ]
    }
   ],
   "source": [
    "with tf.device('/CPU:0'):\n",
    "    totalHistoryLossTrain=list() # Вспомогательный список для хранение полной истории обучения\n",
    "    totalHistoryLossTest =list()  # Вспомогательный список для хранение полной истории обучения\n",
    "    globalEpochCounter = 1\n",
    "\n",
    "    # 3) Сборка и подготовка модели НС -----------------------------------------------------------------\n",
    "    model.compile(\n",
    "        loss      = fLoss,\n",
    "        optimizer = fOptimizer,\n",
    "        metrics   = [ fMetric ]\n",
    "    )\n",
    "    #▲▲▲▲▲▲▲▲▲▲▲▲▲▲▲▲▲▲▲▲▲▲▲▲▲▲▲▲▲▲▲▲▲▲▲▲▲▲▲▲▲▲\n",
    "    ###########################################\n",
    "\n",
    "    print(\"Вывод короткой информации о структуре НС\")\n",
    "    print(model.summary())"
   ]
  },
  {
   "cell_type": "code",
   "execution_count": null,
   "id": "409a853a-da05-441d-9e9f-f91b6755ec7e",
   "metadata": {
    "id": "409a853a-da05-441d-9e9f-f91b6755ec7e"
   },
   "outputs": [],
   "source": []
  },
  {
   "cell_type": "markdown",
   "id": "43564568-1628-4c48-b80b-990d1d56a1ac",
   "metadata": {
    "id": "43564568-1628-4c48-b80b-990d1d56a1ac"
   },
   "source": [
    "## 1.2. Назначение весов-коэфф. НС"
   ]
  },
  {
   "cell_type": "code",
   "execution_count": 60,
   "id": "805e99f0-f6d1-4dbc-9b3a-a3da66a6040c",
   "metadata": {
    "colab": {
     "base_uri": "https://localhost:8080/"
    },
    "executionInfo": {
     "elapsed": 180,
     "status": "ok",
     "timestamp": 1694720129026,
     "user": {
      "displayName": "Иван Осипенко",
      "userId": "16599116897440604411"
     },
     "user_tz": -420
    },
    "id": "805e99f0-f6d1-4dbc-9b3a-a3da66a6040c",
    "outputId": "6baad4d6-74f4-472d-8edb-e24cc2a4c155"
   },
   "outputs": [
    {
     "data": {
      "text/plain": [
       "[<keras.layers.core.dense.Dense at 0x19caadc4e50>,\n",
       " <keras.layers.core.activation.Activation at 0x19caadc1190>,\n",
       " <keras.layers.core.dense.Dense at 0x19cab1c9f40>]"
      ]
     },
     "execution_count": 60,
     "metadata": {},
     "output_type": "execute_result"
    }
   ],
   "source": [
    "model.layers"
   ]
  },
  {
   "cell_type": "code",
   "execution_count": 61,
   "id": "12f77ff3-ed64-439a-aae3-2db499075dd7",
   "metadata": {
    "colab": {
     "base_uri": "https://localhost:8080/"
    },
    "executionInfo": {
     "elapsed": 164,
     "status": "ok",
     "timestamp": 1694720129027,
     "user": {
      "displayName": "Иван Осипенко",
      "userId": "16599116897440604411"
     },
     "user_tz": -420
    },
    "id": "12f77ff3-ed64-439a-aae3-2db499075dd7",
    "outputId": "bd3d6f1a-4b4d-4148-baaa-910e4fc9f561"
   },
   "outputs": [
    {
     "name": "stdout",
     "output_type": "stream",
     "text": [
      "####################################################################################################\n",
      "#### Имя слоя:dense_6;  Тип слоя: <class 'keras.layers.core.dense.Dense'> ##########\n",
      "Вид ф-ии активации слоя: linear\n",
      "Кол-во ВХодов  слоя: 1\n",
      "Кол-во ВЫХодов слоя: 3\n",
      "Кол-во нейронов слоя:    3\n",
      "Весовые коэфф. weight_i_j=\n",
      " [[-0.56476593  0.8204714   0.5101943 ]]\n",
      "\n",
      "Весовые коэфф. bias_i_j=\n",
      " [0. 0. 0.]\n",
      "\n",
      "\n",
      "####################################################################################################\n",
      "#### Имя слоя:activation_4;  Тип слоя: <class 'keras.layers.core.activation.Activation'> ##########\n",
      "Вид ф-ии активации слоя: relu\n",
      "Кол-во ВХодов  слоя: 3\n",
      "Кол-во ВЫХодов слоя: 3\n",
      "\n",
      "####################################################################################################\n",
      "#### Имя слоя:dense_7;  Тип слоя: <class 'keras.layers.core.dense.Dense'> ##########\n",
      "Вид ф-ии активации слоя: linear\n",
      "Кол-во ВХодов  слоя: 3\n",
      "Кол-во ВЫХодов слоя: 1\n",
      "Кол-во нейронов слоя:    1\n",
      "Весовые коэфф. weight_i_j=\n",
      " [[ 0.73891294]\n",
      " [ 0.27566004]\n",
      " [-0.80292857]]\n",
      "\n",
      "Весовые коэфф. bias_i_j=\n",
      " [0.]\n",
      "\n",
      "\n"
     ]
    }
   ],
   "source": [
    "# осмотр структуры и весовых коэфф.\n",
    "for layer in model.layers:\n",
    "    print(f'{\"#\"*100}')\n",
    "    print(f\"#### Имя слоя:{layer.name};  Тип слоя: {layer.__class__} ##########\", end='')\n",
    "    print(f\"\\nВид ф-ии активации слоя: {layer.get_config()['activation']}\", end='')\n",
    "    print(f\"\\nКол-во ВХодов  слоя: {layer.input_shape[1]}\", end='')\n",
    "    print(f\"\\nКол-во ВЫХодов слоя: {layer.output_shape[1]}\", end='')\n",
    "    if type(layer) is layers.Dense:\n",
    "        print(f\"\\nКол-во нейронов слоя:    {layer.get_config()['units']}\", end='')\n",
    "        print(f\"\\nВесовые коэфф. weight_i_j=\\n {layer.weights[0].numpy()}\")\n",
    "        print(f\"\\nВесовые коэфф. bias_i_j=\\n {layer.bias.numpy()}\")\n",
    "    elif type(layer) is layers.Activation:\n",
    "        pass\n",
    "    print('\\n')"
   ]
  },
  {
   "cell_type": "code",
   "execution_count": 62,
   "id": "db5ce96f-7827-4e14-922c-40b5dec632f9",
   "metadata": {
    "id": "db5ce96f-7827-4e14-922c-40b5dec632f9"
   },
   "outputs": [],
   "source": [
    "#0.Linear ------------------------------------------\n",
    "model.layers[0].set_weights(\n",
    "    [\n",
    "       np.array( [ [5, -10, -3] ] ), # w_i\n",
    "       np.array(   [0, -5, 0]   )  # b_i\n",
    "    ]\n",
    ")\n",
    "\n",
    "#1.ReLU  ------------------------------------------\n",
    "# Не содержит весовых коэфф.\n",
    "\n",
    "#2.Linear ------------------------------------------\n",
    "model.layers[2].set_weights(\n",
    "    [\n",
    "       np.array( [  [0.6],\n",
    "                    [0.2],\n",
    "                    [-0.1], ] ), # w_i\n",
    "       np.array( [0] )       # b_i\n",
    "    ]\n",
    ")"
   ]
  },
  {
   "cell_type": "markdown",
   "id": "784ba2a4-1515-4755-8b7b-b394227d8f7c",
   "metadata": {
    "id": "784ba2a4-1515-4755-8b7b-b394227d8f7c"
   },
   "source": [
    "## 1.3. Опрос по слоям"
   ]
  },
  {
   "cell_type": "code",
   "execution_count": 63,
   "id": "b30f282c-7823-4e3a-b18c-865c3ba1b052",
   "metadata": {
    "colab": {
     "base_uri": "https://localhost:8080/"
    },
    "executionInfo": {
     "elapsed": 143,
     "status": "ok",
     "timestamp": 1694720129030,
     "user": {
      "displayName": "Иван Осипенко",
      "userId": "16599116897440604411"
     },
     "user_tz": -420
    },
    "id": "b30f282c-7823-4e3a-b18c-865c3ba1b052",
    "outputId": "8d86d2fe-ed64-4edb-c61b-aa4ccb18df27"
   },
   "outputs": [
    {
     "data": {
      "text/plain": [
       "[array([[  5., -10.,  -3.]], dtype=float32),\n",
       " array([ 0., -5.,  0.], dtype=float32),\n",
       " array([[ 0.6],\n",
       "        [ 0.2],\n",
       "        [-0.1]], dtype=float32),\n",
       " array([0.], dtype=float32)]"
      ]
     },
     "execution_count": 63,
     "metadata": {},
     "output_type": "execute_result"
    }
   ],
   "source": [
    "model.get_weights()"
   ]
  },
  {
   "cell_type": "markdown",
   "id": "74fc2ebb-1209-480b-ba4f-96da80c9eca5",
   "metadata": {
    "id": "74fc2ebb-1209-480b-ba4f-96da80c9eca5"
   },
   "source": [
    "Подготовим переменную `x=1`, для подачи на вход нейросети"
   ]
  },
  {
   "cell_type": "code",
   "execution_count": 64,
   "id": "e769b27b-bd91-45c3-9dff-015f854bba9e",
   "metadata": {
    "colab": {
     "base_uri": "https://localhost:8080/"
    },
    "executionInfo": {
     "elapsed": 130,
     "status": "ok",
     "timestamp": 1694720129032,
     "user": {
      "displayName": "Иван Осипенко",
      "userId": "16599116897440604411"
     },
     "user_tz": -420
    },
    "id": "e769b27b-bd91-45c3-9dff-015f854bba9e",
    "outputId": "f8f55091-5a50-4b7c-d5fe-193550b7b297"
   },
   "outputs": [
    {
     "name": "stdout",
     "output_type": "stream",
     "text": [
      "[[0.2]]\n"
     ]
    }
   ],
   "source": [
    "x = np.array([[ 0.2 ]])\n",
    "print(x)"
   ]
  },
  {
   "cell_type": "code",
   "execution_count": 65,
   "id": "8162d449-733a-4d2a-9d3f-bd70f09588f4",
   "metadata": {
    "colab": {
     "base_uri": "https://localhost:8080/"
    },
    "executionInfo": {
     "elapsed": 117,
     "status": "ok",
     "timestamp": 1694720129033,
     "user": {
      "displayName": "Иван Осипенко",
      "userId": "16599116897440604411"
     },
     "user_tz": -420
    },
    "id": "8162d449-733a-4d2a-9d3f-bd70f09588f4",
    "outputId": "05aef2da-b170-4697-a8e9-a9c083772d38"
   },
   "outputs": [
    {
     "name": "stdout",
     "output_type": "stream",
     "text": [
      "tf.Tensor([[ 1.  -7.  -0.6]], shape=(1, 3), dtype=float32)\n"
     ]
    }
   ],
   "source": [
    "y_layer0 = model.layers[0](x) # model[номер_слоя](значение_на_вход_слоя)\n",
    "print(y_layer0)"
   ]
  },
  {
   "cell_type": "code",
   "execution_count": 66,
   "id": "52cb4c66-abe6-4808-9835-21c822ec8f3a",
   "metadata": {
    "colab": {
     "base_uri": "https://localhost:8080/"
    },
    "executionInfo": {
     "elapsed": 108,
     "status": "ok",
     "timestamp": 1694720129036,
     "user": {
      "displayName": "Иван Осипенко",
      "userId": "16599116897440604411"
     },
     "user_tz": -420
    },
    "id": "52cb4c66-abe6-4808-9835-21c822ec8f3a",
    "outputId": "dfc098b5-13d8-42c5-9d40-6d1c12043fdf"
   },
   "outputs": [
    {
     "name": "stdout",
     "output_type": "stream",
     "text": [
      "tf.Tensor([[1. 0. 0.]], shape=(1, 3), dtype=float32)\n"
     ]
    }
   ],
   "source": [
    "y_layer1 =  model.layers[1](y_layer0)  # model[номер_слоя](значение_на_вход_слоя)\n",
    "print(y_layer1)"
   ]
  },
  {
   "cell_type": "code",
   "execution_count": 67,
   "id": "211e93d9-3372-4a20-90b8-5a5b5d506dd0",
   "metadata": {
    "colab": {
     "base_uri": "https://localhost:8080/"
    },
    "executionInfo": {
     "elapsed": 100,
     "status": "ok",
     "timestamp": 1694720129040,
     "user": {
      "displayName": "Иван Осипенко",
      "userId": "16599116897440604411"
     },
     "user_tz": -420
    },
    "id": "211e93d9-3372-4a20-90b8-5a5b5d506dd0",
    "outputId": "62f9b4fc-5243-4cc9-aa0e-5bcc8c08a480"
   },
   "outputs": [
    {
     "name": "stdout",
     "output_type": "stream",
     "text": [
      "tf.Tensor([[0.6]], shape=(1, 1), dtype=float32)\n"
     ]
    }
   ],
   "source": [
    "y_out = model.layers[2](y_layer1)\n",
    "print(y_out)"
   ]
  },
  {
   "cell_type": "code",
   "execution_count": 68,
   "id": "0517d039-5cb4-41c8-927e-562cebc04a43",
   "metadata": {
    "colab": {
     "base_uri": "https://localhost:8080/"
    },
    "executionInfo": {
     "elapsed": 92,
     "status": "ok",
     "timestamp": 1694720129043,
     "user": {
      "displayName": "Иван Осипенко",
      "userId": "16599116897440604411"
     },
     "user_tz": -420
    },
    "id": "0517d039-5cb4-41c8-927e-562cebc04a43",
    "outputId": "be885dc5-95c0-43fc-f80a-bb3977e22276"
   },
   "outputs": [
    {
     "name": "stdout",
     "output_type": "stream",
     "text": [
      "1/1 [==============================] - 0s 42ms/step\n"
     ]
    },
    {
     "data": {
      "text/plain": [
       "array([[0.6]], dtype=float32)"
      ]
     },
     "execution_count": 68,
     "metadata": {},
     "output_type": "execute_result"
    }
   ],
   "source": [
    "model.predict(x)"
   ]
  },
  {
   "cell_type": "markdown",
   "id": "dfe2f384-9577-472a-9356-f3e8df9b26f9",
   "metadata": {
    "id": "dfe2f384-9577-472a-9356-f3e8df9b26f9"
   },
   "source": [
    "# 2. Исследование работы MLP для классификации изображений"
   ]
  },
  {
   "cell_type": "markdown",
   "id": "a2d36c49-a3d7-4f4e-b42b-40e203b87c9d",
   "metadata": {
    "id": "a2d36c49-a3d7-4f4e-b42b-40e203b87c9d"
   },
   "source": [
    "## Создание изображений"
   ]
  },
  {
   "cell_type": "code",
   "execution_count": 69,
   "id": "4b891057-3926-4ac3-854f-f9e7adaccd39",
   "metadata": {
    "id": "4b891057-3926-4ac3-854f-f9e7adaccd39"
   },
   "outputs": [],
   "source": [
    "pathFotImgs = 'imgs'"
   ]
  },
  {
   "cell_type": "code",
   "execution_count": 70,
   "id": "dd45dae0-7905-4043-8df0-551ef3b8c96a",
   "metadata": {
    "id": "dd45dae0-7905-4043-8df0-551ef3b8c96a"
   },
   "outputs": [],
   "source": [
    "class myWinTK ():\n",
    "    ''' Класс графического окна для рисования изображений '''\n",
    "\n",
    "    def getImage(self):\n",
    "        _image = self.output_image\n",
    "        _image = _image.resize((self.widthSave, self.heightSave), PIL.Image.BILINEAR)  # привести к размеру\n",
    "        #print('getImage', _image.size)\n",
    "        return _image\n",
    "\n",
    "    def saveToFileFunc(self):\n",
    "        # сохранить изображение\n",
    "        timestamp = datetime.datetime.now().strftime(\"%Y-%m-%d-%H-%M-%S\")\n",
    "        filename = f'img_{timestamp}.bmp'\n",
    "        saved_image = self.getImage()\n",
    "        saved_image.save( os.path.join(os.getcwd(), self.pathFotImgs, filename) ,\n",
    "                          quality=100, subsampling=0) # сохранить\n",
    "        print(f\"Изображение сохранено {os.path.join(self.pathFotImgs, filename)}\")\n",
    "\n",
    "    def drawGrid(self):\n",
    "        # нанести сетку только для окна рисования (не применяется к финальному изображению)\n",
    "        for ih in range(0, self.widthGUI//self.gridSize):\n",
    "            self.canvasTk.create_line(0,           self.gridSize*ih*1, self.widthGUI,    self.gridSize*ih*1, fill='#555555')\n",
    "        for iw in range(0 ,self.heightGUI//self.gridSize):\n",
    "            self.canvasTk.create_line(self.gridSize*iw*1, 0,   self.gridSize*iw*1, self.heightGUI,    fill='#555555')\n",
    "\n",
    "    def clearFunc(self):\n",
    "        # очистить поле\n",
    "        self.draw.rectangle((0, 0, self.widthGUI, self.heightGUI), fill=(0, 0, 0, 0))\n",
    "        self.canvasTk.delete(\"all\")\n",
    "        self.canvasTk.create_rectangle(0, 0, self.widthGUI, self.heightGUI, fill='black')\n",
    "        self.drawGrid()\n",
    "        if self.modelForPredict is not None:\n",
    "            self.T.delete('1.0', tk.END)\n",
    "\n",
    "    def paintFunc(self,event):\n",
    "        # нанести точку\n",
    "        grx=event.x//self.gridSize*self.gridSize\n",
    "        gry=event.y//self.gridSize*self.gridSize\n",
    "        x1, y1 = grx, gry\n",
    "        x2, y2 = (grx + self.gridSize), (gry + self.gridSize)\n",
    "        self.canvasTk.create_rectangle(x1, y1, x2, y2, fill=\"white\", width=1) #gridSize-1\n",
    "        self.draw.rectangle((x1, y1, x2, y2), fill=(255, 255, 255, 0))\n",
    "        #print(x1, y1, x2, y2)\n",
    "\n",
    "    def predictFromDraw(self):\n",
    "        # Подать изображение с полотна на вход модели НС для классификаии\n",
    "        _image = self.getImage()\n",
    "        _image = _image.convert('1') # привести к ч/б\n",
    "        numpy_array = np.array(_image, dtype=float)\n",
    "        #print(\"predictFromDraw:\", numpy_array.shape)\n",
    "\n",
    "        # Опрос модели\n",
    "        with tf.device('/CPU:0'):\n",
    "            # Переупаковка единственного изображения для подачи на вход НС\n",
    "            numpy_array = numpy_array.reshape(1, self.widthSave, self.heightSave)\n",
    "            #print(\"predictFromDraw:\", numpy_array.shape)\n",
    "\n",
    "            # Вызов ф. predict - вычисление одиночного ответа\n",
    "            y_pred = model.predict(numpy_array)\n",
    "\n",
    "            # Вывод ответа в текстовое поле\n",
    "            self.T.delete('1.0', tk.END)\n",
    "            self.T.insert(tk.END,f'Ответ НС:\\n')\n",
    "            for i, probability in enumerate(y_pred[0]):\n",
    "                self.T.insert(tk.END, f'  Выч. класс_{i}: {probability:>7.1%}\\n' )\n",
    "\n",
    "    def __init__(self, modelForPredict = None, ):\n",
    "        self.modelForPredict = modelForPredict\n",
    "        self.scaleFactor = 10\n",
    "        self.gridSize    = self.scaleFactor\n",
    "        self.widthSave, self.heightSave = 28, 28  #размер итогового изображения при сохранении\n",
    "        self.widthGUI,  self.heightGUI  = self.widthSave*self.scaleFactor, self.heightSave*self.scaleFactor  #размер видимого окна\n",
    "        self.pathFotImgs = 'imgs'\n",
    "\n",
    "        # Проверка наличия и создание директории для изображений\n",
    "        if not os.path.exists(self.pathFotImgs):\n",
    "            os.mkdir(self.pathFotImgs)\n",
    "            print(f\"Создана диретория {os.path.join(os.getcwd(), self.pathFotImgs)}\")\n",
    "        else:\n",
    "            print(f\"Найдена диретория {os.path.join(os.getcwd(), self.pathFotImgs)}\")\n",
    "\n",
    "\n",
    "        rootWindow = tk.Tk() # основное окно\n",
    "\n",
    "        # поле для рисования\n",
    "        self.canvasTk = tk.Canvas(rootWindow, width=self.widthGUI, height=self.heightGUI, bg='black')\n",
    "        self.canvasTk.bind(\"<B1-Motion>\", self.paintFunc)\n",
    "        self.canvasTk.bind(\"<Button-1>\",  self.paintFunc)\n",
    "        self.output_image = PIL.Image.new(\"RGB\", (self.widthGUI, self.heightGUI), (0,0,0)) # PIL Изображение\n",
    "        self.draw = PIL.ImageDraw.Draw(self.output_image)\n",
    "        self.drawGrid()\n",
    "        self.canvasTk.pack(expand=tk.YES, fill=tk.BOTH)\n",
    "\n",
    "        # кнопки\n",
    "        if self.modelForPredict is not None:\n",
    "            print('Режим распознования нарисованного изображения')\n",
    "            buttonPredict=tk.Button(text=\"Распознать\",command=self.predictFromDraw)\n",
    "            buttonPredict.config(bg='#CCCCFF')\n",
    "            buttonPredict.pack()\n",
    "            self.T = tk.Text(rootWindow, height = 6, width = 22)\n",
    "            self.T.pack()\n",
    "        else:\n",
    "            print('Режим рисования и сохранения изображений')\n",
    "            buttonSave=tk.Button(text=\"Сохранить в файл\",command=self.saveToFileFunc)\n",
    "            buttonSave.config(bg='#CCFFCC')\n",
    "            buttonSave.pack()\n",
    "        buttonClear=tk.Button(text=\"Очистить\",command=self.clearFunc)\n",
    "        buttonClear.config(bg='#FFCCCC')\n",
    "        buttonClear.pack()\n",
    "        my_label = tk.Label(rootWindow, text = \"После рисования и обработки\\n нужного кол-ва изображений\\n обязательно закройте это окно\")   #  , font= ('Aerial', 17))\n",
    "        my_label.pack()\n",
    "\n",
    "        rootWindow.title(\"Simple painter\")\n",
    "        rootWindow.attributes(\"-topmost\",True) # окно поверх всех других окон\n",
    "        rootWindow.resizable(False, False)\n",
    "        rootWindow.mainloop()                  # отобразить окно"
   ]
  },
  {
   "cell_type": "code",
   "execution_count": 88,
   "id": "2d8987c4-3d8d-4d4f-9a80-a8a8b0125019",
   "metadata": {
    "id": "2d8987c4-3d8d-4d4f-9a80-a8a8b0125019"
   },
   "outputs": [
    {
     "name": "stdout",
     "output_type": "stream",
     "text": [
      "Найдена диретория D:\\NS\\imgs\n",
      "Режим рисования и сохранения изображений\n",
      "Изображение сохранено imgs\\img_2023-10-06-18-19-57.bmp\n",
      "Изображение сохранено imgs\\img_2023-10-06-18-20-10.bmp\n",
      "Изображение сохранено imgs\\img_2023-10-06-18-20-17.bmp\n",
      "Изображение сохранено imgs\\img_2023-10-06-18-20-23.bmp\n",
      "Изображение сохранено imgs\\img_2023-10-06-18-20-29.bmp\n",
      "Изображение сохранено imgs\\img_2023-10-06-18-20-34.bmp\n",
      "Изображение сохранено imgs\\img_2023-10-06-18-21-36.bmp\n",
      "Изображение сохранено imgs\\img_2023-10-06-18-21-41.bmp\n",
      "Изображение сохранено imgs\\img_2023-10-06-18-22-11.bmp\n",
      "Изображение сохранено imgs\\img_2023-10-06-18-22-24.bmp\n",
      "Изображение сохранено imgs\\img_2023-10-06-18-22-35.bmp\n",
      "Изображение сохранено imgs\\img_2023-10-06-18-22-41.bmp\n",
      "Изображение сохранено imgs\\img_2023-10-06-18-22-46.bmp\n",
      "Изображение сохранено imgs\\img_2023-10-06-18-22-52.bmp\n",
      "Изображение сохранено imgs\\img_2023-10-06-18-22-58.bmp\n",
      "Изображение сохранено imgs\\img_2023-10-06-18-23-31.bmp\n",
      "Изображение сохранено imgs\\img_2023-10-06-18-23-51.bmp\n",
      "Изображение сохранено imgs\\img_2023-10-06-18-23-55.bmp\n",
      "Изображение сохранено imgs\\img_2023-10-06-18-24-02.bmp\n",
      "Изображение сохранено imgs\\img_2023-10-06-18-24-07.bmp\n",
      "Изображение сохранено imgs\\img_2023-10-06-18-24-11.bmp\n",
      "Изображение сохранено imgs\\img_2023-10-06-18-24-16.bmp\n",
      "Изображение сохранено imgs\\img_2023-10-06-18-24-23.bmp\n",
      "Изображение сохранено imgs\\img_2023-10-06-18-24-31.bmp\n",
      "Изображение сохранено imgs\\img_2023-10-06-18-24-38.bmp\n",
      "Изображение сохранено imgs\\img_2023-10-06-18-24-42.bmp\n",
      "Изображение сохранено imgs\\img_2023-10-06-18-24-55.bmp\n",
      "Изображение сохранено imgs\\img_2023-10-06-18-24-58.bmp\n",
      "Изображение сохранено imgs\\img_2023-10-06-18-25-04.bmp\n",
      "Изображение сохранено imgs\\img_2023-10-06-18-25-08.bmp\n",
      "Изображение сохранено imgs\\img_2023-10-06-18-25-12.bmp\n",
      "Изображение сохранено imgs\\img_2023-10-06-18-25-20.bmp\n",
      "Изображение сохранено imgs\\img_2023-10-06-18-25-37.bmp\n",
      "Изображение сохранено imgs\\img_2023-10-06-18-25-59.bmp\n",
      "Изображение сохранено imgs\\img_2023-10-06-18-26-04.bmp\n",
      "Изображение сохранено imgs\\img_2023-10-06-18-26-09.bmp\n",
      "Изображение сохранено imgs\\img_2023-10-06-18-26-15.bmp\n",
      "Изображение сохранено imgs\\img_2023-10-06-18-26-31.bmp\n",
      "Изображение сохранено imgs\\img_2023-10-06-18-27-02.bmp\n",
      "Изображение сохранено imgs\\img_2023-10-06-18-27-02.bmp\n",
      "Изображение сохранено imgs\\img_2023-10-06-18-27-02.bmp\n",
      "Изображение сохранено imgs\\img_2023-10-06-18-27-02.bmp\n",
      "Изображение сохранено imgs\\img_2023-10-06-18-27-06.bmp\n",
      "Изображение сохранено imgs\\img_2023-10-06-18-27-07.bmp\n",
      "Изображение сохранено imgs\\img_2023-10-06-18-27-26.bmp\n",
      "Изображение сохранено imgs\\img_2023-10-06-18-27-31.bmp\n",
      "Изображение сохранено imgs\\img_2023-10-06-18-27-37.bmp\n",
      "Изображение сохранено imgs\\img_2023-10-06-18-27-47.bmp\n",
      "Изображение сохранено imgs\\img_2023-10-06-18-27-52.bmp\n",
      "Изображение сохранено imgs\\img_2023-10-06-18-27-58.bmp\n",
      "Изображение сохранено imgs\\img_2023-10-06-18-28-06.bmp\n",
      "Изображение сохранено imgs\\img_2023-10-06-18-28-11.bmp\n",
      "Изображение сохранено imgs\\img_2023-10-06-18-28-19.bmp\n"
     ]
    }
   ],
   "source": [
    "#Создать экземпляр окна и отобразить\n",
    "myWinTK ();"
   ]
  },
  {
   "cell_type": "markdown",
   "id": "af025317-0055-49da-9674-1fcb286bd7d2",
   "metadata": {
    "id": "af025317-0055-49da-9674-1fcb286bd7d2"
   },
   "source": [
    "- - - - - - - - - - - - - - - - - - - - - - - - - - - - - - - - - - - - - - - - - -"
   ]
  },
  {
   "cell_type": "markdown",
   "id": "8d442f05-3f2d-4efd-8db6-0097ed07f378",
   "metadata": {
    "id": "8d442f05-3f2d-4efd-8db6-0097ed07f378"
   },
   "source": [
    "## Подготовка данных"
   ]
  },
  {
   "cell_type": "code",
   "execution_count": 92,
   "id": "556fead2-a49f-4762-9642-c976b383c3f6",
   "metadata": {
    "colab": {
     "base_uri": "https://localhost:8080/",
     "height": 53
    },
    "executionInfo": {
     "elapsed": 55,
     "status": "ok",
     "timestamp": 1694720153166,
     "user": {
      "displayName": "Иван Осипенко",
      "userId": "16599116897440604411"
     },
     "user_tz": -420
    },
    "id": "556fead2-a49f-4762-9642-c976b383c3f6",
    "outputId": "96926ed9-546a-4dd7-b95a-48bbaac98ca7"
   },
   "outputs": [
    {
     "name": "stdout",
     "output_type": "stream",
     "text": [
      "Путь к директории  \"imgs\"\n"
     ]
    },
    {
     "data": {
      "text/plain": [
       "'D:\\\\NS\\\\imgs'"
      ]
     },
     "execution_count": 92,
     "metadata": {},
     "output_type": "execute_result"
    }
   ],
   "source": [
    "print('Путь к директории  \"imgs\"')\n",
    "os.path.join(os.getcwd(), pathFotImgs)"
   ]
  },
  {
   "cell_type": "code",
   "execution_count": 93,
   "id": "fac262c2-6199-4afc-8f23-a9ced96487b6",
   "metadata": {
    "colab": {
     "base_uri": "https://localhost:8080/"
    },
    "executionInfo": {
     "elapsed": 9,
     "status": "ok",
     "timestamp": 1694720273329,
     "user": {
      "displayName": "Иван Осипенко",
      "userId": "16599116897440604411"
     },
     "user_tz": -420
    },
    "id": "fac262c2-6199-4afc-8f23-a9ced96487b6",
    "outputId": "03bea8e8-06ec-4e20-fb3d-eb5ba14c0e1a"
   },
   "outputs": [
    {
     "name": "stdout",
     "output_type": "stream",
     "text": [
      "Список найденных подпапок для классов\n",
      "0\n",
      "1\n",
      "2\n",
      "\n",
      "Список найденных не распределённых изображений\n"
     ]
    }
   ],
   "source": [
    "print('Список найденных подпапок для классов')\n",
    "for name in os.listdir(pathFotImgs):\n",
    "    if os.path.isdir(os.path.join(pathFotImgs, name)):\n",
    "        print (name)\n",
    "print()\n",
    "print('Список найденных не распределённых изображений')\n",
    "for name in os.listdir(pathFotImgs):\n",
    "    if os.path.isfile(os.path.join(pathFotImgs, name)):\n",
    "        print (name)"
   ]
  },
  {
   "cell_type": "code",
   "execution_count": 94,
   "id": "69059a9e-35bc-4ef6-8253-fc8006b5fd2e",
   "metadata": {
    "colab": {
     "base_uri": "https://localhost:8080/"
    },
    "executionInfo": {
     "elapsed": 577,
     "status": "ok",
     "timestamp": 1694723382621,
     "user": {
      "displayName": "Иван Осипенко",
      "userId": "16599116897440604411"
     },
     "user_tz": -420
    },
    "id": "69059a9e-35bc-4ef6-8253-fc8006b5fd2e",
    "outputId": "4d72785b-7ec1-4582-9dfe-88b99c726e8f"
   },
   "outputs": [
    {
     "name": "stdout",
     "output_type": "stream",
     "text": [
      "Количество найденных файлов, распределённых по подпапкам: 45\n",
      "  0 imgs\\0\\img_2023-10-06-18-19-57.bmp\n",
      "  1 imgs\\0\\img_2023-10-06-18-20-10.bmp\n",
      "  2 imgs\\0\\img_2023-10-06-18-20-17.bmp\n",
      "  3 imgs\\0\\img_2023-10-06-18-20-23.bmp\n",
      "  4 imgs\\0\\img_2023-10-06-18-20-29.bmp\n",
      "  5 imgs\\0\\img_2023-10-06-18-20-34.bmp\n",
      "  6 imgs\\0\\img_2023-10-06-18-21-36.bmp\n",
      "  7 imgs\\0\\img_2023-10-06-18-21-41.bmp\n",
      "  8 imgs\\0\\img_2023-10-06-18-22-11.bmp\n",
      "  9 imgs\\0\\img_2023-10-06-18-22-24.bmp\n",
      " 10 imgs\\0\\img_2023-10-06-18-22-35.bmp\n",
      " 11 imgs\\0\\img_2023-10-06-18-22-41.bmp\n",
      " 12 imgs\\0\\img_2023-10-06-18-22-46.bmp\n",
      " 13 imgs\\0\\img_2023-10-06-18-22-52.bmp\n",
      " 14 imgs\\0\\img_2023-10-06-18-22-58.bmp\n",
      " 15 imgs\\1\\img_2023-10-06-18-23-51.bmp\n",
      " 16 imgs\\1\\img_2023-10-06-18-23-55.bmp\n",
      " 17 imgs\\1\\img_2023-10-06-18-24-02.bmp\n",
      " 18 imgs\\1\\img_2023-10-06-18-24-07.bmp\n",
      " 19 imgs\\1\\img_2023-10-06-18-24-11.bmp\n",
      " 20 imgs\\1\\img_2023-10-06-18-24-16.bmp\n",
      " 21 imgs\\1\\img_2023-10-06-18-24-23.bmp\n",
      " 22 imgs\\1\\img_2023-10-06-18-24-31.bmp\n",
      " 23 imgs\\1\\img_2023-10-06-18-24-38.bmp\n",
      " 24 imgs\\1\\img_2023-10-06-18-24-55.bmp\n",
      " 25 imgs\\1\\img_2023-10-06-18-24-58.bmp\n",
      " 26 imgs\\1\\img_2023-10-06-18-25-04.bmp\n",
      " 27 imgs\\1\\img_2023-10-06-18-25-08.bmp\n",
      " 28 imgs\\1\\img_2023-10-06-18-25-12.bmp\n",
      " 29 imgs\\1\\img_2023-10-06-18-25-20.bmp\n",
      " 30 imgs\\2\\img_2023-10-06-18-25-37.bmp\n",
      " 31 imgs\\2\\img_2023-10-06-18-25-59.bmp\n",
      " 32 imgs\\2\\img_2023-10-06-18-26-04.bmp\n",
      " 33 imgs\\2\\img_2023-10-06-18-26-09.bmp\n",
      " 34 imgs\\2\\img_2023-10-06-18-26-15.bmp\n",
      " 35 imgs\\2\\img_2023-10-06-18-26-31.bmp\n",
      " 36 imgs\\2\\img_2023-10-06-18-27-26.bmp\n",
      " 37 imgs\\2\\img_2023-10-06-18-27-31.bmp\n",
      " 38 imgs\\2\\img_2023-10-06-18-27-37.bmp\n",
      " 39 imgs\\2\\img_2023-10-06-18-27-47.bmp\n",
      " 40 imgs\\2\\img_2023-10-06-18-27-52.bmp\n",
      " 41 imgs\\2\\img_2023-10-06-18-27-58.bmp\n",
      " 42 imgs\\2\\img_2023-10-06-18-28-06.bmp\n",
      " 43 imgs\\2\\img_2023-10-06-18-28-11.bmp\n",
      " 44 imgs\\2\\img_2023-10-06-18-28-19.bmp\n"
     ]
    }
   ],
   "source": [
    "import pathlib\n",
    "data_dir = pathlib.Path(pathFotImgs)\n",
    "image_count = len(list(data_dir.glob('*/*.*')))\n",
    "print('Количество найденных файлов, распределённых по подпапкам:', image_count)\n",
    "\n",
    "for i, imgPath in enumerate(list(data_dir.glob('*/*.*'))):\n",
    "    print(f'{i: >3}', imgPath)"
   ]
  },
  {
   "cell_type": "code",
   "execution_count": 95,
   "id": "fd43299f-2865-4801-8a2b-038232d358ae",
   "metadata": {
    "colab": {
     "base_uri": "https://localhost:8080/"
    },
    "executionInfo": {
     "elapsed": 10,
     "status": "ok",
     "timestamp": 1694723384261,
     "user": {
      "displayName": "Иван Осипенко",
      "userId": "16599116897440604411"
     },
     "user_tz": -420
    },
    "id": "fd43299f-2865-4801-8a2b-038232d358ae",
    "outputId": "28d88dbc-7637-4d3b-9437-282de974d321"
   },
   "outputs": [
    {
     "name": "stdout",
     "output_type": "stream",
     "text": [
      "Found 45 files belonging to 3 classes.\n",
      "Тип данных структуры images  <class 'tensorflow.python.framework.ops.EagerTensor'>\n",
      "Тип данных структуры labels  <class 'tensorflow.python.framework.ops.EagerTensor'>\n",
      "\n",
      "Уникальных классов: ['0', '1', '2']\n",
      "Распределение меток классов:\n",
      " tf.Tensor(\n",
      "[0 0 0 0 0 0 0 0 0 0 0 0 0 0 0 1 1 1 1 1 1 1 1 1 1 1 1 1 1 1 2 2 2 2 2 2 2\n",
      " 2 2 2 2 2 2 2 2], shape=(45,), dtype=int32)\n",
      "\n",
      "Преобразования и размеры\n",
      "  images.shape: (45, 28, 28, 3) После загрузки\n",
      "  images.shape: (45, 28, 28, 1) После перевода в ч/б.\n",
      "  images.shape: (45, 28, 28)    После изм. размерности массива (N, 28, 28, 1) к (N, 28, 28)\n",
      "  images.shape: (45, 28, 28)    После преобразования значений от 0...255 к 0.0...0.1\n",
      "Тип данных структуры images  <class 'numpy.ndarray'>\n",
      "Тип данных структуры labels  <class 'numpy.ndarray'>\n"
     ]
    }
   ],
   "source": [
    "# получение вспомогательного объекта imgs_dataset для генерации массива с данными\n",
    "imgs_dataset = tf.keras.utils.image_dataset_from_directory(\n",
    "    # Полное описание параметров https://www.tensorflow.org/api_docs/python/tf/keras/utils/image_dataset_from_directory\n",
    "    directory = './imgs/', # каталог для поиска изображений, !!!ТРЕБУЕТ ТОЛЬКО ЛАТИНСКИЕ БУКВЫ В ПОЛНОМ ПУТИ!!!\n",
    "    labels='inferred',     # 'inferred' - метки класса задаются соответственно названию каталога, в котором находится изображение\n",
    "    label_mode= 'int',     # 'int' - режим кодирования меток класса, создаст labels с целочисленными значениями\n",
    "\n",
    "    batch_size=None,      #\n",
    "    image_size=(28,28),  # Целевой размер загруженного изображения. По умолчанию =(256, 256)\n",
    "    shuffle=False,        # Режим случайного перемешивания изображений Отключён. Позднее перемешивание выполняется train_test_split\n",
    "    seed=0,               # Начальное состояние генератора случайных чисел\n",
    "    validation_split= None,\n",
    ")\n",
    "#--------------------------------------------------\n",
    "# Получить массивы с изображениями и метками в явном виде\n",
    "images = tf.TensorArray(dtype=tf.float32, size=0, dynamic_size=True)\n",
    "labels = tf.TensorArray(dtype=tf.int32, size=0,   dynamic_size=True)\n",
    "\n",
    "for  image_batch, labels_batch in imgs_dataset:\n",
    "  images = images.write(images.size(), image_batch)\n",
    "  labels = labels.write(labels.size(), labels_batch)\n",
    "\n",
    "images = tf.stack(images.stack(), axis=0)\n",
    "labels = tf.stack(labels.stack(), axis=0)\n",
    "\n",
    "# --------------------------------------------------\n",
    "print('Тип данных структуры images ', type(images))\n",
    "print('Тип данных структуры labels ', type(labels))\n",
    "print('\\nУникальных классов:', imgs_dataset.class_names)\n",
    "print('Распределение меток классов:\\n', labels)\n",
    "\n",
    "print('\\nПреобразования и размеры')\n",
    "print(f'  images.shape: {images.shape} После загрузки')\n",
    "images = tf.image.rgb_to_grayscale(images)         ; print(f'  images.shape: {images.shape} После перевода в ч/б.')\n",
    "images = tf.squeeze(images)                        ; print(f'  images.shape: {images.shape}    После изм. размерности массива (N, 28, 28, 1) к (N, 28, 28)')\n",
    "images = images/tf.constant(256, dtype=tf.float32) ; print(f'  images.shape: {images.shape}    После преобразования значений от 0...255 к 0.0...0.1')\n",
    "\n",
    "# приведение numpy.ndarray\n",
    "images = images.numpy() ; print('Тип данных структуры images ', type(images))\n",
    "labels = labels.numpy() ; print('Тип данных структуры labels ', type(labels))"
   ]
  },
  {
   "cell_type": "code",
   "execution_count": null,
   "id": "c3744373-e8ef-470c-94ad-46054c4a6b4d",
   "metadata": {
    "id": "c3744373-e8ef-470c-94ad-46054c4a6b4d"
   },
   "outputs": [],
   "source": []
  },
  {
   "cell_type": "markdown",
   "id": "882182b7-4200-4bcf-a8ac-1a0e98bbe735",
   "metadata": {
    "id": "882182b7-4200-4bcf-a8ac-1a0e98bbe735"
   },
   "source": [
    "### Формирование обучающей выборки"
   ]
  },
  {
   "cell_type": "code",
   "execution_count": 96,
   "id": "8650siqtNAKr",
   "metadata": {
    "id": "8650siqtNAKr"
   },
   "outputs": [],
   "source": [
    "valid_size = 0.3 # доля тестовой части в выборке\n",
    "rand_seed = 1    # начальное состояние генератора случ. чисел\n",
    "\n",
    "X_train, X_test, y_train, y_test = train_test_split(\n",
    "    images,                     # исходные данные X\n",
    "    labels,                     # исходные данные y\n",
    "    test_size    = valid_size,  # доля тестовой части в выборке\n",
    "    random_state = rand_seed,   # начальное состояние генератора случ. чисел\n",
    "    shuffle=True,               # перемешивание\n",
    "    stratify=labels,            # параметр для равномерного разделения\n",
    ")"
   ]
  },
  {
   "cell_type": "code",
   "execution_count": 97,
   "id": "czsjog4BNAXj",
   "metadata": {
    "colab": {
     "base_uri": "https://localhost:8080/"
    },
    "executionInfo": {
     "elapsed": 24,
     "status": "ok",
     "timestamp": 1694723389656,
     "user": {
      "displayName": "Иван Осипенко",
      "userId": "16599116897440604411"
     },
     "user_tz": -420
    },
    "id": "czsjog4BNAXj",
    "outputId": "3bbdde03-3f8f-4319-80c4-0c242e860c1e"
   },
   "outputs": [
    {
     "name": "stdout",
     "output_type": "stream",
     "text": [
      "Кол-во образцов: \n",
      "  X_train :  31, y_train  31 \n",
      "  X_test  :  14, y_test   14 \n",
      "  X всего :  45, y всего  45 \n"
     ]
    }
   ],
   "source": [
    "print (\"Кол-во образцов: \"\n",
    "       \"\\n  X_train : {:>3}, y_train {:>3} \"\n",
    "       \"\\n  X_test  : {:>3}, y_test  {:>3} \"\n",
    "       \"\\n  X всего : {:>3}, y всего {:>3} \".format  (\n",
    "    len(X_train), len(y_train),\n",
    "    len(X_test),  len(y_test),\n",
    "    len(X_train)+len(X_test), len(y_train)+len(y_test),\n",
    "))"
   ]
  },
  {
   "cell_type": "markdown",
   "id": "6pgNtDBXNEq1",
   "metadata": {
    "id": "6pgNtDBXNEq1"
   },
   "source": [
    "### Осмотр изображений сформированного набора"
   ]
  },
  {
   "cell_type": "code",
   "execution_count": 98,
   "id": "kN3kGJ81NAjO",
   "metadata": {
    "id": "kN3kGJ81NAjO"
   },
   "outputs": [],
   "source": [
    "def plotSetOfImages(dataArray, labelsArray):\n",
    "    # Вывод изображений набора в графическом виде\n",
    "    maxColInRow = 8\n",
    "    nrows = dataArray.shape[0]//maxColInRow\n",
    "    if dataArray.shape[0]%maxColInRow !=0:     nrows += 1\n",
    "    plt.figure(figsize=(15, nrows*2 ))\n",
    "\n",
    "    for i in range(0, dataArray.shape[0]):\n",
    "        plt.subplot(nrows, maxColInRow, i+1)\n",
    "        plt.axis(False)\n",
    "        plt.imshow(dataArray[i], cmap='gray')\n",
    "        plt.title(f\"№{i},y={labelsArray[i]}\")\n",
    "\n",
    "        plt.subplots_adjust(wspace=0.1, hspace=0.5)"
   ]
  },
  {
   "cell_type": "code",
   "execution_count": 99,
   "id": "piJn2N1pNHD0",
   "metadata": {
    "colab": {
     "base_uri": "https://localhost:8080/",
     "height": 531
    },
    "executionInfo": {
     "elapsed": 4123,
     "status": "ok",
     "timestamp": 1694723448269,
     "user": {
      "displayName": "Иван Осипенко",
      "userId": "16599116897440604411"
     },
     "user_tz": -420
    },
    "id": "piJn2N1pNHD0",
    "outputId": "c984d5f7-c89b-47fd-a43f-c56db4532b85"
   },
   "outputs": [
    {
     "name": "stdout",
     "output_type": "stream",
     "text": [
      "Обучающая часть.\n",
      "[1 1 0 0 1 2 0 2 2 1 2 2 0 2 2 0 1 0 1 1 1 1 2 0 2 1 2 0 0 0 0]\n",
      "Изображений в наборе 31:\n",
      "  Класс_0, кол-во  11 шт.\n",
      "  Класс_1, кол-во  10 шт.\n",
      "  Класс_2, кол-во  10 шт.\n"
     ]
    },
    {
     "data": {
      "image/png": "[encoded data removed]",
      "text/plain": [
       "<Figure size 1500x800 with 31 Axes>"
      ]
     },
     "metadata": {},
     "output_type": "display_data"
    }
   ],
   "source": [
    "print(\"Обучающая часть.\")\n",
    "print(y_train)\n",
    "\n",
    "print(f\"Изображений в наборе {y_train.shape[0]}:\")\n",
    "for class_label, count in zip (*np.unique(y_train, return_counts=True)):\n",
    "    print(f'  Класс_{class_label}, кол-во {count:>3} шт.' )\n",
    "\n",
    "# Вывод изображений набора в графическом виде\n",
    "plotSetOfImages(X_train, y_train)"
   ]
  },
  {
   "cell_type": "code",
   "execution_count": null,
   "id": "8kpTQiIwYTbk",
   "metadata": {
    "id": "8kpTQiIwYTbk"
   },
   "outputs": [],
   "source": []
  },
  {
   "cell_type": "code",
   "execution_count": 100,
   "id": "wmLMef6qNHSw",
   "metadata": {
    "colab": {
     "base_uri": "https://localhost:8080/",
     "height": 234
    },
    "executionInfo": {
     "elapsed": 1704,
     "status": "ok",
     "timestamp": 1694723461063,
     "user": {
      "displayName": "Иван Осипенко",
      "userId": "16599116897440604411"
     },
     "user_tz": -420
    },
    "id": "wmLMef6qNHSw",
    "outputId": "f070aae2-eac4-4b92-c8c6-ca38fd8582a5"
   },
   "outputs": [
    {
     "name": "stdout",
     "output_type": "stream",
     "text": [
      "Проверочная часть.\n",
      "[2 2 1 2 1 2 0 2 1 0 0 1 1 0]\n",
      "Изображений в наборе 14:\n",
      "  Класс_0, кол-во   4 шт.\n",
      "  Класс_1, кол-во   5 шт.\n",
      "  Класс_2, кол-во   5 шт.\n"
     ]
    },
    {
     "data": {
      "image/png": "[encoded data removed]",
      "text/plain": [
       "<Figure size 1500x400 with 14 Axes>"
      ]
     },
     "metadata": {},
     "output_type": "display_data"
    }
   ],
   "source": [
    "print(\"Проверочная часть.\")\n",
    "print(y_test)\n",
    "\n",
    "print(f\"Изображений в наборе {y_test.shape[0]}:\")\n",
    "for class_label, count in zip (*np.unique(y_test, return_counts=True)):\n",
    "    print(f'  Класс_{class_label}, кол-во {count:>3} шт.' )\n",
    "\n",
    "# Вывод изображений набора в графическом виде\n",
    "plotSetOfImages(X_test, y_test)"
   ]
  },
  {
   "cell_type": "code",
   "execution_count": null,
   "id": "KgCZmB8nNHhs",
   "metadata": {
    "id": "KgCZmB8nNHhs"
   },
   "outputs": [],
   "source": []
  },
  {
   "cell_type": "markdown",
   "id": "f838ed5d-4118-4041-848c-098f3119c764",
   "metadata": {
    "id": "f838ed5d-4118-4041-848c-098f3119c764"
   },
   "source": [
    "- - - - - - - - - - - - - - - - - - - - - - - - - - - - - - - - - - - - - - - - - -"
   ]
  },
  {
   "cell_type": "markdown",
   "id": "f3247a8b-34ac-4ff4-bccd-87380a7b07c2",
   "metadata": {
    "id": "f3247a8b-34ac-4ff4-bccd-87380a7b07c2"
   },
   "source": [
    "### Кодирование меток классов \"one-hot encoded\""
   ]
  },
  {
   "cell_type": "code",
   "execution_count": 101,
   "id": "cdf5e0ea-81dd-49c9-916a-a1f6c90eb943",
   "metadata": {
    "colab": {
     "base_uri": "https://localhost:8080/"
    },
    "executionInfo": {
     "elapsed": 551,
     "status": "ok",
     "timestamp": 1694723476826,
     "user": {
      "displayName": "Иван Осипенко",
      "userId": "16599116897440604411"
     },
     "user_tz": -420
    },
    "id": "cdf5e0ea-81dd-49c9-916a-a1f6c90eb943",
    "outputId": "22a31649-8543-48b0-993f-f916f3bd3539"
   },
   "outputs": [
    {
     "data": {
      "text/plain": [
       "array([1, 1, 0, 0, 1, 2, 0, 2, 2, 1, 2, 2, 0, 2, 2, 0, 1, 0, 1, 1, 1, 1,\n",
       "       2, 0, 2, 1, 2, 0, 0, 0, 0])"
      ]
     },
     "execution_count": 101,
     "metadata": {},
     "output_type": "execute_result"
    }
   ],
   "source": [
    "y_train"
   ]
  },
  {
   "cell_type": "code",
   "execution_count": 102,
   "id": "6b88979b-50b4-47ed-bd74-cf373bcd2076",
   "metadata": {
    "colab": {
     "base_uri": "https://localhost:8080/"
    },
    "executionInfo": {
     "elapsed": 6,
     "status": "ok",
     "timestamp": 1694723477132,
     "user": {
      "displayName": "Иван Осипенко",
      "userId": "16599116897440604411"
     },
     "user_tz": -420
    },
    "id": "6b88979b-50b4-47ed-bd74-cf373bcd2076",
    "outputId": "722902eb-c769-4c95-f3e8-c976e9f4f585"
   },
   "outputs": [
    {
     "data": {
      "text/plain": [
       "array([2, 2, 1, 2, 1, 2, 0, 2, 1, 0, 0, 1, 1, 0])"
      ]
     },
     "execution_count": 102,
     "metadata": {},
     "output_type": "execute_result"
    }
   ],
   "source": [
    "y_test"
   ]
  },
  {
   "cell_type": "code",
   "execution_count": 103,
   "id": "f2d50a67-3f8b-417e-8ca3-02b48867333b",
   "metadata": {
    "colab": {
     "base_uri": "https://localhost:8080/"
    },
    "executionInfo": {
     "elapsed": 10,
     "status": "ok",
     "timestamp": 1694723479110,
     "user": {
      "displayName": "Иван Осипенко",
      "userId": "16599116897440604411"
     },
     "user_tz": -420
    },
    "id": "f2d50a67-3f8b-417e-8ca3-02b48867333b",
    "outputId": "07a71c4c-c8bf-4d45-b9cc-9be23e3e8e61"
   },
   "outputs": [
    {
     "name": "stdout",
     "output_type": "stream",
     "text": [
      "y_train (31, 3)\n",
      "[[0. 1. 0.]\n",
      " [0. 1. 0.]\n",
      " [1. 0. 0.]\n",
      " [1. 0. 0.]\n",
      " [0. 1. 0.]\n",
      " [0. 0. 1.]\n",
      " [1. 0. 0.]\n",
      " [0. 0. 1.]\n",
      " [0. 0. 1.]\n",
      " [0. 1. 0.]\n",
      " [0. 0. 1.]\n",
      " [0. 0. 1.]\n",
      " [1. 0. 0.]\n",
      " [0. 0. 1.]\n",
      " [0. 0. 1.]\n",
      " [1. 0. 0.]\n",
      " [0. 1. 0.]\n",
      " [1. 0. 0.]\n",
      " [0. 1. 0.]\n",
      " [0. 1. 0.]\n",
      " [0. 1. 0.]\n",
      " [0. 1. 0.]\n",
      " [0. 0. 1.]\n",
      " [1. 0. 0.]\n",
      " [0. 0. 1.]\n",
      " [0. 1. 0.]\n",
      " [0. 0. 1.]\n",
      " [1. 0. 0.]\n",
      " [1. 0. 0.]\n",
      " [1. 0. 0.]\n",
      " [1. 0. 0.]]\n",
      "\n",
      "y_test (14, 3)\n",
      "[[0. 0. 1.]\n",
      " [0. 0. 1.]\n",
      " [0. 1. 0.]\n",
      " [0. 0. 1.]\n",
      " [0. 1. 0.]\n",
      " [0. 0. 1.]\n",
      " [1. 0. 0.]\n",
      " [0. 0. 1.]\n",
      " [0. 1. 0.]\n",
      " [1. 0. 0.]\n",
      " [1. 0. 0.]\n",
      " [0. 1. 0.]\n",
      " [0. 1. 0.]\n",
      " [1. 0. 0.]]\n"
     ]
    }
   ],
   "source": [
    "y_train =  tf.keras.utils.to_categorical(y_train)\n",
    "y_test  =  tf.keras.utils.to_categorical(y_test)\n",
    "\n",
    "print(\"y_train\", y_train.shape)\n",
    "print(y_train)\n",
    "print()\n",
    "print(\"y_test\", y_test.shape)\n",
    "print(y_test)"
   ]
  },
  {
   "cell_type": "code",
   "execution_count": null,
   "id": "1e1b426e-0818-4e71-9dc4-b2712c5e2b1c",
   "metadata": {
    "id": "1e1b426e-0818-4e71-9dc4-b2712c5e2b1c"
   },
   "outputs": [],
   "source": []
  },
  {
   "cell_type": "markdown",
   "id": "9c604d2a-5087-43b5-a87c-e33b075858ab",
   "metadata": {
    "id": "9c604d2a-5087-43b5-a87c-e33b075858ab"
   },
   "source": [
    "- - - - - - - - - - - - - - - - - - - - - - - - - - - - - - - - - - - - - - - - - -"
   ]
  },
  {
   "cell_type": "markdown",
   "id": "bc168bef-1770-4414-aef7-ba73701e3a17",
   "metadata": {
    "id": "bc168bef-1770-4414-aef7-ba73701e3a17"
   },
   "source": [
    "## Работа с нейронной сетью"
   ]
  },
  {
   "cell_type": "markdown",
   "id": "1a1fefe1-a4ad-490b-9b2d-ab4b72c0528b",
   "metadata": {
    "id": "1a1fefe1-a4ad-490b-9b2d-ab4b72c0528b"
   },
   "source": [
    "### Создание НС. Создание структуры и выбор начальных параметров"
   ]
  },
  {
   "cell_type": "code",
   "execution_count": 104,
   "id": "1840749f-b340-4b98-b84e-18f0c59c0563",
   "metadata": {
    "colab": {
     "base_uri": "https://localhost:8080/"
    },
    "executionInfo": {
     "elapsed": 14,
     "status": "ok",
     "timestamp": 1694723482369,
     "user": {
      "displayName": "Иван Осипенко",
      "userId": "16599116897440604411"
     },
     "user_tz": -420
    },
    "id": "1840749f-b340-4b98-b84e-18f0c59c0563",
    "outputId": "3286f097-fce9-4452-8155-69ef5064e781"
   },
   "outputs": [
    {
     "name": "stdout",
     "output_type": "stream",
     "text": [
      "X_train (31, 28, 28)\n"
     ]
    }
   ],
   "source": [
    "print(\"X_train\", X_train.shape)"
   ]
  },
  {
   "cell_type": "code",
   "execution_count": 105,
   "id": "2952022e-060f-4540-9a06-a632bf5486f0",
   "metadata": {
    "colab": {
     "base_uri": "https://localhost:8080/"
    },
    "executionInfo": {
     "elapsed": 35,
     "status": "ok",
     "timestamp": 1694723483883,
     "user": {
      "displayName": "Иван Осипенко",
      "userId": "16599116897440604411"
     },
     "user_tz": -420
    },
    "id": "2952022e-060f-4540-9a06-a632bf5486f0",
    "outputId": "019e1141-c6da-4f26-d3cd-a37449e9b027"
   },
   "outputs": [
    {
     "name": "stdout",
     "output_type": "stream",
     "text": [
      "y_train (31, 3)\n"
     ]
    },
    {
     "data": {
      "text/plain": [
       "array([[0., 1., 0.],\n",
       "       [0., 1., 0.],\n",
       "       [1., 0., 0.],\n",
       "       [1., 0., 0.],\n",
       "       [0., 1., 0.],\n",
       "       [0., 0., 1.],\n",
       "       [1., 0., 0.],\n",
       "       [0., 0., 1.],\n",
       "       [0., 0., 1.],\n",
       "       [0., 1., 0.],\n",
       "       [0., 0., 1.],\n",
       "       [0., 0., 1.],\n",
       "       [1., 0., 0.],\n",
       "       [0., 0., 1.],\n",
       "       [0., 0., 1.],\n",
       "       [1., 0., 0.],\n",
       "       [0., 1., 0.],\n",
       "       [1., 0., 0.],\n",
       "       [0., 1., 0.],\n",
       "       [0., 1., 0.],\n",
       "       [0., 1., 0.],\n",
       "       [0., 1., 0.],\n",
       "       [0., 0., 1.],\n",
       "       [1., 0., 0.],\n",
       "       [0., 0., 1.],\n",
       "       [0., 1., 0.],\n",
       "       [0., 0., 1.],\n",
       "       [1., 0., 0.],\n",
       "       [1., 0., 0.],\n",
       "       [1., 0., 0.],\n",
       "       [1., 0., 0.]], dtype=float32)"
      ]
     },
     "execution_count": 105,
     "metadata": {},
     "output_type": "execute_result"
    }
   ],
   "source": [
    "print(\"y_train\", y_train.shape)\n",
    "y_train"
   ]
  },
  {
   "cell_type": "code",
   "execution_count": 106,
   "id": "30167d7b-d654-43cb-8893-08965bdea1d8",
   "metadata": {
    "id": "30167d7b-d654-43cb-8893-08965bdea1d8"
   },
   "outputs": [],
   "source": [
    "with tf.device('/CPU:0'):\n",
    "    ###########################################\n",
    "    #▼▼▼▼▼▼▼▼▼▼▼▼▼▼▼▼▼▼▼▼▼▼▼▼▼▼▼▼▼▼▼▼▼▼▼▼▼▼▼▼▼▼\n",
    "    # 2.1) Построение модели нейронной сети многослойного(Sequential) типа ----------------------------\n",
    "    model = tf.keras.Sequential()\n",
    "\n",
    "    # ДОБАВЛЕНИЕ НОВЫХ СЛОЁВ --------------------------\n",
    "    # Входной слой, обеспечивает приём всхе пикселей иходного изображения\n",
    "    model.add(  layers.Input(\n",
    "                    shape=(28,28)\n",
    "    ))\n",
    "\n",
    "    # Слой для преобразование изображения в одномерный вектор\n",
    "    model.add(  layers.Flatten()  )\n",
    "\n",
    " # Скрытый полносвязный слой\n",
    "    model.add(  layers.Dense(\n",
    "                    units= 32,          # параметр \"units\" - кол-во узлов/нейронов на данном слое\n",
    "                    activation= None    # параметр \"activation\" - вид функции активации\n",
    "    ))\n",
    "    \n",
    "    # Скрытый полносвязный слой\n",
    "    model.add(  layers.Dense(\n",
    "                    units= 16,          # параметр \"units\" - кол-во узлов/нейронов на данном слое\n",
    "                    activation= None    # параметр \"activation\" - вид функции активации\n",
    "    ))\n",
    "\n",
    "    # Cлой нелинейной функцией активации\n",
    "    model.add(  layers.Activation(\n",
    "                    activation=\"sigmoid\"\n",
    "    ))\n",
    "\n",
    "    # Скрытый полносвязный слой\n",
    "    model.add(  layers.Dense(\n",
    "                    units= 8,           # параметр \"units\" - кол-во узлов/нейронов на данном слое\n",
    "                    activation= None    # параметр \"activation\" - вид функции активации\n",
    "    ))\n",
    "\n",
    "    # Cлой нелинейной функцией активации\n",
    "    model.add(  layers.Activation(\n",
    "                    activation=tf.keras.activations.sigmoid # параметр \"activation\" - вид функции активации\n",
    "    ))\n",
    "\n",
    "    # Последний слой определяющий кол-во принадлежностей к классам\n",
    "    model.add(  layers.Dense(\n",
    "                    units= 3,           # параметр \"units\" - кол-во узлов/нейронов на данном слое\n",
    "                    activation= None    # параметр \"activation\" - вид функции активации\n",
    "    ))\n",
    "\n",
    "    # Слой нелинейной функцией активации для обработки ответов нейронной сети\n",
    "    # Softmax преобразует ответы всех выходных НС в вероятности принадлежности к классам, сумма всех вероятностей = 1.0\n",
    "    model.add(  layers.Activation(\n",
    "                    activation=activations.softmax # параметр \"activation\" - вид функции активации\n",
    "    ))"
   ]
  },
  {
   "cell_type": "code",
   "execution_count": 107,
   "id": "e43980a6-7016-4cd7-8156-29e48d889836",
   "metadata": {
    "id": "e43980a6-7016-4cd7-8156-29e48d889836"
   },
   "outputs": [],
   "source": [
    "with tf.device('/CPU:0'):\n",
    "    # 2.2) Функции потерь и функции оптимизации --------------------------------------------------------------------\n",
    "    fLoss      = losses.CategoricalCrossentropy()\n",
    "    #fLoss      = losses.BinaryCrossentropy()\n",
    "    #floss      = losses.SparseCategoricalCrossentropy()\n",
    "\n",
    "    fOptimizer = optimizers.Adam(learning_rate=0.01)\n",
    "    #fOptimizer = optimizers.SGD(learning_rate=0.01)\n",
    "    #fOptimizer = optimizers.RMSprop(learning_rate=0.01)\n",
    "\n",
    "    fMetric  = [\n",
    "                  metrics.CategoricalAccuracy(),\n",
    "                  metrics.CategoricalCrossentropy(),\n",
    "                  metrics.Precision(),\n",
    "    ]"
   ]
  },
  {
   "cell_type": "code",
   "execution_count": 108,
   "id": "5c2a2ac1-bb93-45af-bd07-861110720ab3",
   "metadata": {
    "colab": {
     "base_uri": "https://localhost:8080/"
    },
    "executionInfo": {
     "elapsed": 849,
     "status": "ok",
     "timestamp": 1694723708482,
     "user": {
      "displayName": "Иван Осипенко",
      "userId": "16599116897440604411"
     },
     "user_tz": -420
    },
    "id": "5c2a2ac1-bb93-45af-bd07-861110720ab3",
    "outputId": "2cd128ad-b96c-4be8-bfa6-0fce3a9619e8",
    "scrolled": true
   },
   "outputs": [
    {
     "name": "stdout",
     "output_type": "stream",
     "text": [
      "Вывод короткой информации о структуре НС\n",
      "Model: \"sequential_4\"\n",
      "_________________________________________________________________\n",
      " Layer (type)                Output Shape              Param #   \n",
      "=================================================================\n",
      " flatten_2 (Flatten)         (None, 784)               0         \n",
      "                                                                 \n",
      " dense_12 (Dense)            (None, 32)                25120     \n",
      "                                                                 \n",
      " dense_13 (Dense)            (None, 16)                528       \n",
      "                                                                 \n",
      " activation_8 (Activation)   (None, 16)                0         \n",
      "                                                                 \n",
      " dense_14 (Dense)            (None, 8)                 136       \n",
      "                                                                 \n",
      " activation_9 (Activation)   (None, 8)                 0         \n",
      "                                                                 \n",
      " dense_15 (Dense)            (None, 3)                 27        \n",
      "                                                                 \n",
      " activation_10 (Activation)  (None, 3)                 0         \n",
      "                                                                 \n",
      "=================================================================\n",
      "Total params: 25,811\n",
      "Trainable params: 25,811\n",
      "Non-trainable params: 0\n",
      "_________________________________________________________________\n"
     ]
    }
   ],
   "source": [
    "with tf.device('/CPU:0'):\n",
    "    totalHistoryLossTrain=list() # Вспомогательный список для хранение полной истории обучения\n",
    "    totalHistoryLossTest =list() # Вспомогательный список для хранение полной истории обучения\n",
    "    globalEpochCounter = 1\n",
    "\n",
    "    model.compile(\n",
    "        loss      = fLoss,\n",
    "        optimizer = fOptimizer,\n",
    "        metrics   = [ fMetric ]\n",
    "    )\n",
    "    #▲▲▲▲▲▲▲▲▲▲▲▲▲▲▲▲▲▲▲▲▲▲▲▲▲▲▲▲▲▲▲▲▲▲▲▲▲▲▲▲▲▲\n",
    "    ###########################################\n",
    "\n",
    "    print(\"Вывод короткой информации о структуре НС\")\n",
    "    model.summary()"
   ]
  },
  {
   "cell_type": "code",
   "execution_count": null,
   "id": "40b7adf0-f6d9-4fd1-8018-31bde6714736",
   "metadata": {
    "id": "40b7adf0-f6d9-4fd1-8018-31bde6714736"
   },
   "outputs": [],
   "source": []
  },
  {
   "cell_type": "markdown",
   "id": "4de6aeb6-67b8-4305-a961-2c9d61413c6a",
   "metadata": {
    "id": "4de6aeb6-67b8-4305-a961-2c9d61413c6a"
   },
   "source": [
    "- - - - - - - - - - - - - - - - - - - - - - - - - - - - - - - - - - - - - - - - - -"
   ]
  },
  {
   "cell_type": "markdown",
   "id": "88f1c83e-23a7-45be-9773-7b3bdb67e73e",
   "metadata": {
    "id": "88f1c83e-23a7-45be-9773-7b3bdb67e73e"
   },
   "source": [
    "### Обучение НС"
   ]
  },
  {
   "cell_type": "code",
   "execution_count": 109,
   "id": "12c3240c-f9d5-4261-851e-947ca4dd5f9b",
   "metadata": {
    "colab": {
     "base_uri": "https://localhost:8080/"
    },
    "executionInfo": {
     "elapsed": 42,
     "status": "ok",
     "timestamp": 1694723708487,
     "user": {
      "displayName": "Иван Осипенко",
      "userId": "16599116897440604411"
     },
     "user_tz": -420
    },
    "id": "12c3240c-f9d5-4261-851e-947ca4dd5f9b",
    "outputId": "e90ceac2-0c1f-47d0-9515-2e6db626b1dd"
   },
   "outputs": [
    {
     "data": {
      "text/plain": [
       "(None, 28, 28)"
      ]
     },
     "execution_count": 109,
     "metadata": {},
     "output_type": "execute_result"
    }
   ],
   "source": [
    "model.layers[0].input_shape"
   ]
  },
  {
   "cell_type": "code",
   "execution_count": 110,
   "id": "0c8ade4b-49d0-4903-a3fd-c36467be1117",
   "metadata": {
    "colab": {
     "base_uri": "https://localhost:8080/"
    },
    "executionInfo": {
     "elapsed": 30,
     "status": "ok",
     "timestamp": 1694723708491,
     "user": {
      "displayName": "Иван Осипенко",
      "userId": "16599116897440604411"
     },
     "user_tz": -420
    },
    "id": "0c8ade4b-49d0-4903-a3fd-c36467be1117",
    "outputId": "fdd180ab-dce7-40f5-d1a2-0e2b58b50c33"
   },
   "outputs": [
    {
     "data": {
      "text/plain": [
       "31"
      ]
     },
     "execution_count": 110,
     "metadata": {},
     "output_type": "execute_result"
    }
   ],
   "source": [
    "X_train.shape[0]"
   ]
  },
  {
   "cell_type": "code",
   "execution_count": 112,
   "id": "b95f01d4-7fd1-441d-adfd-2f14b0765f1c",
   "metadata": {
    "colab": {
     "base_uri": "https://localhost:8080/",
     "height": 959
    },
    "executionInfo": {
     "elapsed": 2627,
     "status": "ok",
     "timestamp": 1694723733098,
     "user": {
      "displayName": "Иван Осипенко",
      "userId": "16599116897440604411"
     },
     "user_tz": -420
    },
    "id": "b95f01d4-7fd1-441d-adfd-2f14b0765f1c",
    "outputId": "cd955e90-3a78-4c56-bd30-3f36cc7df44d"
   },
   "outputs": [
    {
     "name": "stdout",
     "output_type": "stream",
     "text": [
      "Обучение на образце №0  y=[0. 1. 0.]\n",
      "Epoch 1/5\n",
      "1/1 [==============================] - 0s 7ms/step - loss: 0.1903 - categorical_accuracy: 1.0000 - categorical_crossentropy: 0.1903 - precision_4: 1.0000\n",
      "Epoch 2/5\n",
      "1/1 [==============================] - 0s 5ms/step - loss: 0.1916 - categorical_accuracy: 1.0000 - categorical_crossentropy: 0.1916 - precision_4: 1.0000\n",
      "Epoch 3/5\n",
      "1/1 [==============================] - 0s 7ms/step - loss: 0.1918 - categorical_accuracy: 1.0000 - categorical_crossentropy: 0.1918 - precision_4: 1.0000\n",
      "Epoch 4/5\n",
      "1/1 [==============================] - 0s 5ms/step - loss: 0.1912 - categorical_accuracy: 1.0000 - categorical_crossentropy: 0.1912 - precision_4: 1.0000\n",
      "Epoch 5/5\n",
      "1/1 [==============================] - 0s 5ms/step - loss: 0.1896 - categorical_accuracy: 1.0000 - categorical_crossentropy: 0.1896 - precision_4: 1.0000\n",
      "Обучение на образце №1  y=[0. 1. 0.]\n",
      "Epoch 1/5\n",
      "1/1 [==============================] - 0s 7ms/step - loss: 0.1873 - categorical_accuracy: 1.0000 - categorical_crossentropy: 0.1873 - precision_4: 1.0000\n",
      "Epoch 2/5\n",
      "1/1 [==============================] - 0s 5ms/step - loss: 0.1844 - categorical_accuracy: 1.0000 - categorical_crossentropy: 0.1844 - precision_4: 1.0000\n",
      "Epoch 3/5\n",
      "1/1 [==============================] - 0s 5ms/step - loss: 0.1809 - categorical_accuracy: 1.0000 - categorical_crossentropy: 0.1809 - precision_4: 1.0000\n",
      "Epoch 4/5\n",
      "1/1 [==============================] - 0s 6ms/step - loss: 0.1770 - categorical_accuracy: 1.0000 - categorical_crossentropy: 0.1770 - precision_4: 1.0000\n",
      "Epoch 5/5\n",
      "1/1 [==============================] - 0s 5ms/step - loss: 0.1727 - categorical_accuracy: 1.0000 - categorical_crossentropy: 0.1727 - precision_4: 1.0000\n",
      "Обучение на образце №2  y=[1. 0. 0.]\n",
      "Epoch 1/5\n",
      "1/1 [==============================] - 0s 6ms/step - loss: 0.0662 - categorical_accuracy: 1.0000 - categorical_crossentropy: 0.0662 - precision_4: 1.0000\n",
      "Epoch 2/5\n",
      "1/1 [==============================] - 0s 5ms/step - loss: 0.0651 - categorical_accuracy: 1.0000 - categorical_crossentropy: 0.0651 - precision_4: 1.0000\n",
      "Epoch 3/5\n",
      "1/1 [==============================] - 0s 6ms/step - loss: 0.0640 - categorical_accuracy: 1.0000 - categorical_crossentropy: 0.0640 - precision_4: 1.0000\n",
      "Epoch 4/5\n",
      "1/1 [==============================] - 0s 5ms/step - loss: 0.0627 - categorical_accuracy: 1.0000 - categorical_crossentropy: 0.0627 - precision_4: 1.0000\n",
      "Epoch 5/5\n",
      "1/1 [==============================] - 0s 6ms/step - loss: 0.0614 - categorical_accuracy: 1.0000 - categorical_crossentropy: 0.0614 - precision_4: 1.0000\n",
      "Обучение на образце №3  y=[1. 0. 0.]\n",
      "Epoch 1/5\n",
      "1/1 [==============================] - 0s 6ms/step - loss: 0.0600 - categorical_accuracy: 1.0000 - categorical_crossentropy: 0.0600 - precision_4: 1.0000\n",
      "Epoch 2/5\n",
      "1/1 [==============================] - 0s 5ms/step - loss: 0.0585 - categorical_accuracy: 1.0000 - categorical_crossentropy: 0.0585 - precision_4: 1.0000\n",
      "Epoch 3/5\n",
      "1/1 [==============================] - 0s 5ms/step - loss: 0.0570 - categorical_accuracy: 1.0000 - categorical_crossentropy: 0.0570 - precision_4: 1.0000\n",
      "Epoch 4/5\n",
      "1/1 [==============================] - 0s 5ms/step - loss: 0.0555 - categorical_accuracy: 1.0000 - categorical_crossentropy: 0.0555 - precision_4: 1.0000\n",
      "Epoch 5/5\n",
      "1/1 [==============================] - 0s 6ms/step - loss: 0.0540 - categorical_accuracy: 1.0000 - categorical_crossentropy: 0.0540 - precision_4: 1.0000\n",
      "Обучение на образце №4  y=[0. 1. 0.]\n",
      "Epoch 1/5\n",
      "1/1 [==============================] - 0s 8ms/step - loss: 0.1472 - categorical_accuracy: 1.0000 - categorical_crossentropy: 0.1472 - precision_4: 1.0000\n",
      "Epoch 2/5\n",
      "1/1 [==============================] - 0s 5ms/step - loss: 0.1459 - categorical_accuracy: 1.0000 - categorical_crossentropy: 0.1459 - precision_4: 1.0000\n",
      "Epoch 3/5\n",
      "1/1 [==============================] - 0s 5ms/step - loss: 0.1441 - categorical_accuracy: 1.0000 - categorical_crossentropy: 0.1441 - precision_4: 1.0000\n",
      "Epoch 4/5\n",
      "1/1 [==============================] - 0s 6ms/step - loss: 0.1419 - categorical_accuracy: 1.0000 - categorical_crossentropy: 0.1419 - precision_4: 1.0000\n",
      "Epoch 5/5\n",
      "1/1 [==============================] - 0s 6ms/step - loss: 0.1394 - categorical_accuracy: 1.0000 - categorical_crossentropy: 0.1394 - precision_4: 1.0000\n",
      "Обучение на образце №5  y=[0. 0. 1.]\n",
      "Epoch 1/5\n",
      "1/1 [==============================] - 0s 7ms/step - loss: 0.2394 - categorical_accuracy: 1.0000 - categorical_crossentropy: 0.2394 - precision_4: 1.0000\n",
      "Epoch 2/5\n",
      "1/1 [==============================] - 0s 6ms/step - loss: 0.2386 - categorical_accuracy: 1.0000 - categorical_crossentropy: 0.2386 - precision_4: 1.0000\n",
      "Epoch 3/5\n",
      "1/1 [==============================] - 0s 5ms/step - loss: 0.2360 - categorical_accuracy: 1.0000 - categorical_crossentropy: 0.2360 - precision_4: 1.0000\n",
      "Epoch 4/5\n",
      "1/1 [==============================] - 0s 6ms/step - loss: 0.2318 - categorical_accuracy: 1.0000 - categorical_crossentropy: 0.2318 - precision_4: 1.0000\n",
      "Epoch 5/5\n",
      "1/1 [==============================] - 0s 5ms/step - loss: 0.2265 - categorical_accuracy: 1.0000 - categorical_crossentropy: 0.2265 - precision_4: 1.0000\n",
      "Обучение на образце №6  y=[1. 0. 0.]\n",
      "Epoch 1/5\n",
      "1/1 [==============================] - 0s 7ms/step - loss: 0.0486 - categorical_accuracy: 1.0000 - categorical_crossentropy: 0.0486 - precision_4: 1.0000\n",
      "Epoch 2/5\n",
      "1/1 [==============================] - 0s 6ms/step - loss: 0.0488 - categorical_accuracy: 1.0000 - categorical_crossentropy: 0.0488 - precision_4: 1.0000\n",
      "Epoch 3/5\n",
      "1/1 [==============================] - 0s 5ms/step - loss: 0.0488 - categorical_accuracy: 1.0000 - categorical_crossentropy: 0.0488 - precision_4: 1.0000\n",
      "Epoch 4/5\n",
      "1/1 [==============================] - 0s 6ms/step - loss: 0.0487 - categorical_accuracy: 1.0000 - categorical_crossentropy: 0.0487 - precision_4: 1.0000\n",
      "Epoch 5/5\n",
      "1/1 [==============================] - 0s 6ms/step - loss: 0.0485 - categorical_accuracy: 1.0000 - categorical_crossentropy: 0.0485 - precision_4: 1.0000\n",
      "Обучение на образце №7  y=[0. 0. 1.]\n",
      "Epoch 1/5\n",
      "1/1 [==============================] - 0s 6ms/step - loss: 0.1999 - categorical_accuracy: 1.0000 - categorical_crossentropy: 0.1999 - precision_4: 1.0000\n",
      "Epoch 2/5\n",
      "1/1 [==============================] - 0s 5ms/step - loss: 0.1960 - categorical_accuracy: 1.0000 - categorical_crossentropy: 0.1960 - precision_4: 1.0000\n",
      "Epoch 3/5\n",
      "1/1 [==============================] - 0s 5ms/step - loss: 0.1914 - categorical_accuracy: 1.0000 - categorical_crossentropy: 0.1914 - precision_4: 1.0000\n",
      "Epoch 4/5\n",
      "1/1 [==============================] - 0s 6ms/step - loss: 0.1860 - categorical_accuracy: 1.0000 - categorical_crossentropy: 0.1860 - precision_4: 1.0000\n",
      "Epoch 5/5\n",
      "1/1 [==============================] - 0s 5ms/step - loss: 0.1802 - categorical_accuracy: 1.0000 - categorical_crossentropy: 0.1802 - precision_4: 1.0000\n",
      "Обучение на образце №8  y=[0. 0. 1.]\n",
      "Epoch 1/5\n",
      "1/1 [==============================] - 0s 7ms/step - loss: 0.1743 - categorical_accuracy: 1.0000 - categorical_crossentropy: 0.1743 - precision_4: 1.0000\n",
      "Epoch 2/5\n",
      "1/1 [==============================] - 0s 5ms/step - loss: 0.1679 - categorical_accuracy: 1.0000 - categorical_crossentropy: 0.1679 - precision_4: 1.0000\n",
      "Epoch 3/5\n",
      "1/1 [==============================] - 0s 6ms/step - loss: 0.1614 - categorical_accuracy: 1.0000 - categorical_crossentropy: 0.1614 - precision_4: 1.0000\n",
      "Epoch 4/5\n",
      "1/1 [==============================] - 0s 6ms/step - loss: 0.1549 - categorical_accuracy: 1.0000 - categorical_crossentropy: 0.1549 - precision_4: 1.0000\n",
      "Epoch 5/5\n",
      "1/1 [==============================] - 0s 6ms/step - loss: 0.1484 - categorical_accuracy: 1.0000 - categorical_crossentropy: 0.1484 - precision_4: 1.0000\n",
      "Обучение на образце №9  y=[0. 1. 0.]\n",
      "Epoch 1/5\n",
      "1/1 [==============================] - 0s 8ms/step - loss: 0.1208 - categorical_accuracy: 1.0000 - categorical_crossentropy: 0.1208 - precision_4: 1.0000\n",
      "Epoch 2/5\n",
      "1/1 [==============================] - 0s 6ms/step - loss: 0.1205 - categorical_accuracy: 1.0000 - categorical_crossentropy: 0.1205 - precision_4: 1.0000\n",
      "Epoch 3/5\n",
      "1/1 [==============================] - 0s 6ms/step - loss: 0.1197 - categorical_accuracy: 1.0000 - categorical_crossentropy: 0.1197 - precision_4: 1.0000\n",
      "Epoch 4/5\n",
      "1/1 [==============================] - 0s 5ms/step - loss: 0.1187 - categorical_accuracy: 1.0000 - categorical_crossentropy: 0.1187 - precision_4: 1.0000\n",
      "Epoch 5/5\n",
      "1/1 [==============================] - 0s 6ms/step - loss: 0.1173 - categorical_accuracy: 1.0000 - categorical_crossentropy: 0.1173 - precision_4: 1.0000\n",
      "Обучение на образце №10  y=[0. 0. 1.]\n",
      "Epoch 1/5\n",
      "1/1 [==============================] - 0s 7ms/step - loss: 0.1213 - categorical_accuracy: 1.0000 - categorical_crossentropy: 0.1213 - precision_4: 1.0000\n",
      "Epoch 2/5\n",
      "1/1 [==============================] - 0s 5ms/step - loss: 0.1181 - categorical_accuracy: 1.0000 - categorical_crossentropy: 0.1181 - precision_4: 1.0000\n",
      "Epoch 3/5\n",
      "1/1 [==============================] - 0s 5ms/step - loss: 0.1148 - categorical_accuracy: 1.0000 - categorical_crossentropy: 0.1148 - precision_4: 1.0000\n",
      "Epoch 4/5\n",
      "1/1 [==============================] - 0s 6ms/step - loss: 0.1115 - categorical_accuracy: 1.0000 - categorical_crossentropy: 0.1115 - precision_4: 1.0000\n",
      "Epoch 5/5\n",
      "1/1 [==============================] - 0s 5ms/step - loss: 0.1081 - categorical_accuracy: 1.0000 - categorical_crossentropy: 0.1081 - precision_4: 1.0000\n",
      "Обучение на образце №11  y=[0. 0. 1.]\n",
      "Epoch 1/5\n",
      "1/1 [==============================] - 0s 8ms/step - loss: 0.1048 - categorical_accuracy: 1.0000 - categorical_crossentropy: 0.1048 - precision_4: 1.0000\n",
      "Epoch 2/5\n",
      "1/1 [==============================] - 0s 5ms/step - loss: 0.1014 - categorical_accuracy: 1.0000 - categorical_crossentropy: 0.1014 - precision_4: 1.0000\n",
      "Epoch 3/5\n",
      "1/1 [==============================] - 0s 4ms/step - loss: 0.0982 - categorical_accuracy: 1.0000 - categorical_crossentropy: 0.0982 - precision_4: 1.0000\n",
      "Epoch 4/5\n",
      "1/1 [==============================] - 0s 5ms/step - loss: 0.0950 - categorical_accuracy: 1.0000 - categorical_crossentropy: 0.0950 - precision_4: 1.0000\n",
      "Epoch 5/5\n",
      "1/1 [==============================] - 0s 6ms/step - loss: 0.0919 - categorical_accuracy: 1.0000 - categorical_crossentropy: 0.0919 - precision_4: 1.0000\n",
      "Обучение на образце №12  y=[1. 0. 0.]\n",
      "Epoch 1/5\n",
      "1/1 [==============================] - 0s 8ms/step - loss: 0.0826 - categorical_accuracy: 1.0000 - categorical_crossentropy: 0.0826 - precision_4: 1.0000\n",
      "Epoch 2/5\n",
      "1/1 [==============================] - 0s 6ms/step - loss: 0.0674 - categorical_accuracy: 1.0000 - categorical_crossentropy: 0.0674 - precision_4: 1.0000\n",
      "Epoch 3/5\n",
      "1/1 [==============================] - 0s 5ms/step - loss: 0.0666 - categorical_accuracy: 1.0000 - categorical_crossentropy: 0.0666 - precision_4: 1.0000\n",
      "Epoch 4/5\n",
      "1/1 [==============================] - 0s 5ms/step - loss: 0.0664 - categorical_accuracy: 1.0000 - categorical_crossentropy: 0.0664 - precision_4: 1.0000\n",
      "Epoch 5/5\n",
      "1/1 [==============================] - 0s 6ms/step - loss: 0.0660 - categorical_accuracy: 1.0000 - categorical_crossentropy: 0.0660 - precision_4: 1.0000\n",
      "Обучение на образце №13  y=[0. 0. 1.]\n",
      "Epoch 1/5\n",
      "1/1 [==============================] - 0s 7ms/step - loss: 0.0797 - categorical_accuracy: 1.0000 - categorical_crossentropy: 0.0797 - precision_4: 1.0000\n",
      "Epoch 2/5\n",
      "1/1 [==============================] - 0s 6ms/step - loss: 0.0784 - categorical_accuracy: 1.0000 - categorical_crossentropy: 0.0784 - precision_4: 1.0000\n",
      "Epoch 3/5\n",
      "1/1 [==============================] - 0s 5ms/step - loss: 0.0770 - categorical_accuracy: 1.0000 - categorical_crossentropy: 0.0770 - precision_4: 1.0000\n",
      "Epoch 4/5\n",
      "1/1 [==============================] - 0s 6ms/step - loss: 0.0755 - categorical_accuracy: 1.0000 - categorical_crossentropy: 0.0755 - precision_4: 1.0000\n",
      "Epoch 5/5\n",
      "1/1 [==============================] - 0s 5ms/step - loss: 0.0740 - categorical_accuracy: 1.0000 - categorical_crossentropy: 0.0740 - precision_4: 1.0000\n",
      "Обучение на образце №14  y=[0. 0. 1.]\n",
      "Epoch 1/5\n",
      "1/1 [==============================] - 0s 7ms/step - loss: 0.0724 - categorical_accuracy: 1.0000 - categorical_crossentropy: 0.0724 - precision_4: 1.0000\n",
      "Epoch 2/5\n",
      "1/1 [==============================] - 0s 6ms/step - loss: 0.0709 - categorical_accuracy: 1.0000 - categorical_crossentropy: 0.0709 - precision_4: 1.0000\n",
      "Epoch 3/5\n",
      "1/1 [==============================] - 0s 5ms/step - loss: 0.0693 - categorical_accuracy: 1.0000 - categorical_crossentropy: 0.0693 - precision_4: 1.0000\n",
      "Epoch 4/5\n",
      "1/1 [==============================] - 0s 6ms/step - loss: 0.0678 - categorical_accuracy: 1.0000 - categorical_crossentropy: 0.0678 - precision_4: 1.0000\n",
      "Epoch 5/5\n",
      "1/1 [==============================] - 0s 6ms/step - loss: 0.0662 - categorical_accuracy: 1.0000 - categorical_crossentropy: 0.0662 - precision_4: 1.0000\n",
      "Обучение на образце №15  y=[1. 0. 0.]\n",
      "Epoch 1/5\n",
      "1/1 [==============================] - 0s 7ms/step - loss: 0.0655 - categorical_accuracy: 1.0000 - categorical_crossentropy: 0.0655 - precision_4: 1.0000\n",
      "Epoch 2/5\n",
      "1/1 [==============================] - 0s 5ms/step - loss: 0.0655 - categorical_accuracy: 1.0000 - categorical_crossentropy: 0.0655 - precision_4: 1.0000\n",
      "Epoch 3/5\n",
      "1/1 [==============================] - 0s 6ms/step - loss: 0.0652 - categorical_accuracy: 1.0000 - categorical_crossentropy: 0.0652 - precision_4: 1.0000\n",
      "Epoch 4/5\n",
      "1/1 [==============================] - 0s 6ms/step - loss: 0.0646 - categorical_accuracy: 1.0000 - categorical_crossentropy: 0.0646 - precision_4: 1.0000\n",
      "Epoch 5/5\n",
      "1/1 [==============================] - 0s 5ms/step - loss: 0.0638 - categorical_accuracy: 1.0000 - categorical_crossentropy: 0.0638 - precision_4: 1.0000\n",
      "Обучение на образце №16  y=[0. 1. 0.]\n",
      "Epoch 1/5\n",
      "1/1 [==============================] - 0s 8ms/step - loss: 0.1115 - categorical_accuracy: 1.0000 - categorical_crossentropy: 0.1115 - precision_4: 1.0000\n",
      "Epoch 2/5\n",
      "1/1 [==============================] - 0s 7ms/step - loss: 0.1114 - categorical_accuracy: 1.0000 - categorical_crossentropy: 0.1114 - precision_4: 1.0000\n",
      "Epoch 3/5\n",
      "1/1 [==============================] - 0s 7ms/step - loss: 0.1109 - categorical_accuracy: 1.0000 - categorical_crossentropy: 0.1109 - precision_4: 1.0000\n",
      "Epoch 4/5\n",
      "1/1 [==============================] - 0s 6ms/step - loss: 0.1100 - categorical_accuracy: 1.0000 - categorical_crossentropy: 0.1100 - precision_4: 1.0000\n",
      "Epoch 5/5\n",
      "1/1 [==============================] - 0s 5ms/step - loss: 0.1089 - categorical_accuracy: 1.0000 - categorical_crossentropy: 0.1089 - precision_4: 1.0000\n",
      "Обучение на образце №17  y=[1. 0. 0.]\n",
      "Epoch 1/5\n",
      "1/1 [==============================] - 0s 8ms/step - loss: 0.0595 - categorical_accuracy: 1.0000 - categorical_crossentropy: 0.0595 - precision_4: 1.0000\n",
      "Epoch 2/5\n",
      "1/1 [==============================] - 0s 7ms/step - loss: 0.0589 - categorical_accuracy: 1.0000 - categorical_crossentropy: 0.0589 - precision_4: 1.0000\n",
      "Epoch 3/5\n",
      "1/1 [==============================] - 0s 6ms/step - loss: 0.0580 - categorical_accuracy: 1.0000 - categorical_crossentropy: 0.0580 - precision_4: 1.0000\n",
      "Epoch 4/5\n",
      "1/1 [==============================] - 0s 6ms/step - loss: 0.0570 - categorical_accuracy: 1.0000 - categorical_crossentropy: 0.0570 - precision_4: 1.0000\n",
      "Epoch 5/5\n",
      "1/1 [==============================] - 0s 4ms/step - loss: 0.0559 - categorical_accuracy: 1.0000 - categorical_crossentropy: 0.0559 - precision_4: 1.0000\n",
      "Обучение на образце №18  y=[0. 1. 0.]\n",
      "Epoch 1/5\n",
      "1/1 [==============================] - 0s 7ms/step - loss: 0.1029 - categorical_accuracy: 1.0000 - categorical_crossentropy: 0.1029 - precision_4: 1.0000\n",
      "Epoch 2/5\n",
      "1/1 [==============================] - 0s 5ms/step - loss: 0.1019 - categorical_accuracy: 1.0000 - categorical_crossentropy: 0.1019 - precision_4: 1.0000\n",
      "Epoch 3/5\n",
      "1/1 [==============================] - 0s 5ms/step - loss: 0.1008 - categorical_accuracy: 1.0000 - categorical_crossentropy: 0.1008 - precision_4: 1.0000\n",
      "Epoch 4/5\n",
      "1/1 [==============================] - 0s 5ms/step - loss: 0.0994 - categorical_accuracy: 1.0000 - categorical_crossentropy: 0.0994 - precision_4: 1.0000\n",
      "Epoch 5/5\n",
      "1/1 [==============================] - 0s 5ms/step - loss: 0.0979 - categorical_accuracy: 1.0000 - categorical_crossentropy: 0.0979 - precision_4: 1.0000\n",
      "Обучение на образце №19  y=[0. 1. 0.]\n",
      "Epoch 1/5\n",
      "1/1 [==============================] - 0s 8ms/step - loss: 0.0962 - categorical_accuracy: 1.0000 - categorical_crossentropy: 0.0962 - precision_4: 1.0000\n",
      "Epoch 2/5\n",
      "1/1 [==============================] - 0s 5ms/step - loss: 0.0945 - categorical_accuracy: 1.0000 - categorical_crossentropy: 0.0945 - precision_4: 1.0000\n",
      "Epoch 3/5\n",
      "1/1 [==============================] - 0s 6ms/step - loss: 0.0926 - categorical_accuracy: 1.0000 - categorical_crossentropy: 0.0926 - precision_4: 1.0000\n",
      "Epoch 4/5\n",
      "1/1 [==============================] - 0s 5ms/step - loss: 0.0907 - categorical_accuracy: 1.0000 - categorical_crossentropy: 0.0907 - precision_4: 1.0000\n",
      "Epoch 5/5\n",
      "1/1 [==============================] - 0s 6ms/step - loss: 0.0887 - categorical_accuracy: 1.0000 - categorical_crossentropy: 0.0887 - precision_4: 1.0000\n",
      "Обучение на образце №20  y=[0. 1. 0.]\n",
      "Epoch 1/5\n",
      "1/1 [==============================] - 0s 6ms/step - loss: 0.0872 - categorical_accuracy: 1.0000 - categorical_crossentropy: 0.0872 - precision_4: 1.0000\n",
      "Epoch 2/5\n",
      "1/1 [==============================] - 0s 6ms/step - loss: 0.0852 - categorical_accuracy: 1.0000 - categorical_crossentropy: 0.0852 - precision_4: 1.0000\n",
      "Epoch 3/5\n",
      "1/1 [==============================] - 0s 5ms/step - loss: 0.0831 - categorical_accuracy: 1.0000 - categorical_crossentropy: 0.0831 - precision_4: 1.0000\n",
      "Epoch 4/5\n",
      "1/1 [==============================] - 0s 5ms/step - loss: 0.0811 - categorical_accuracy: 1.0000 - categorical_crossentropy: 0.0811 - precision_4: 1.0000\n",
      "Epoch 5/5\n",
      "1/1 [==============================] - 0s 5ms/step - loss: 0.0791 - categorical_accuracy: 1.0000 - categorical_crossentropy: 0.0791 - precision_4: 1.0000\n",
      "Обучение на образце №21  y=[0. 1. 0.]\n",
      "Epoch 1/5\n",
      "1/1 [==============================] - 0s 7ms/step - loss: 0.0769 - categorical_accuracy: 1.0000 - categorical_crossentropy: 0.0769 - precision_4: 1.0000\n",
      "Epoch 2/5\n",
      "1/1 [==============================] - 0s 5ms/step - loss: 0.0750 - categorical_accuracy: 1.0000 - categorical_crossentropy: 0.0750 - precision_4: 1.0000\n",
      "Epoch 3/5\n",
      "1/1 [==============================] - 0s 5ms/step - loss: 0.0732 - categorical_accuracy: 1.0000 - categorical_crossentropy: 0.0732 - precision_4: 1.0000\n",
      "Epoch 4/5\n",
      "1/1 [==============================] - 0s 6ms/step - loss: 0.0714 - categorical_accuracy: 1.0000 - categorical_crossentropy: 0.0714 - precision_4: 1.0000\n",
      "Epoch 5/5\n",
      "1/1 [==============================] - 0s 6ms/step - loss: 0.0696 - categorical_accuracy: 1.0000 - categorical_crossentropy: 0.0696 - precision_4: 1.0000\n",
      "Обучение на образце №22  y=[0. 0. 1.]\n",
      "Epoch 1/5\n",
      "1/1 [==============================] - 0s 10ms/step - loss: 0.0637 - categorical_accuracy: 1.0000 - categorical_crossentropy: 0.0637 - precision_4: 1.0000\n",
      "Epoch 2/5\n",
      "1/1 [==============================] - 0s 6ms/step - loss: 0.0636 - categorical_accuracy: 1.0000 - categorical_crossentropy: 0.0636 - precision_4: 1.0000\n",
      "Epoch 3/5\n",
      "1/1 [==============================] - 0s 5ms/step - loss: 0.0633 - categorical_accuracy: 1.0000 - categorical_crossentropy: 0.0633 - precision_4: 1.0000\n",
      "Epoch 4/5\n",
      "1/1 [==============================] - 0s 4ms/step - loss: 0.0629 - categorical_accuracy: 1.0000 - categorical_crossentropy: 0.0629 - precision_4: 1.0000\n",
      "Epoch 5/5\n",
      "1/1 [==============================] - 0s 5ms/step - loss: 0.0624 - categorical_accuracy: 1.0000 - categorical_crossentropy: 0.0624 - precision_4: 1.0000\n",
      "Обучение на образце №23  y=[1. 0. 0.]\n",
      "Epoch 1/5\n",
      "1/1 [==============================] - 0s 6ms/step - loss: 0.0504 - categorical_accuracy: 1.0000 - categorical_crossentropy: 0.0504 - precision_4: 1.0000\n",
      "Epoch 2/5\n",
      "1/1 [==============================] - 0s 5ms/step - loss: 0.0504 - categorical_accuracy: 1.0000 - categorical_crossentropy: 0.0504 - precision_4: 1.0000\n",
      "Epoch 3/5\n",
      "1/1 [==============================] - 0s 4ms/step - loss: 0.0503 - categorical_accuracy: 1.0000 - categorical_crossentropy: 0.0503 - precision_4: 1.0000\n",
      "Epoch 4/5\n",
      "1/1 [==============================] - 0s 5ms/step - loss: 0.0500 - categorical_accuracy: 1.0000 - categorical_crossentropy: 0.0500 - precision_4: 1.0000\n",
      "Epoch 5/5\n",
      "1/1 [==============================] - 0s 6ms/step - loss: 0.0495 - categorical_accuracy: 1.0000 - categorical_crossentropy: 0.0495 - precision_4: 1.0000\n",
      "Обучение на образце №24  y=[0. 0. 1.]\n",
      "Epoch 1/5\n",
      "1/1 [==============================] - 0s 6ms/step - loss: 0.0608 - categorical_accuracy: 1.0000 - categorical_crossentropy: 0.0608 - precision_4: 1.0000\n",
      "Epoch 2/5\n",
      "1/1 [==============================] - 0s 5ms/step - loss: 0.0605 - categorical_accuracy: 1.0000 - categorical_crossentropy: 0.0605 - precision_4: 1.0000\n",
      "Epoch 3/5\n",
      "1/1 [==============================] - 0s 6ms/step - loss: 0.0600 - categorical_accuracy: 1.0000 - categorical_crossentropy: 0.0600 - precision_4: 1.0000\n",
      "Epoch 4/5\n",
      "1/1 [==============================] - 0s 5ms/step - loss: 0.0595 - categorical_accuracy: 1.0000 - categorical_crossentropy: 0.0595 - precision_4: 1.0000\n",
      "Epoch 5/5\n",
      "1/1 [==============================] - 0s 4ms/step - loss: 0.0589 - categorical_accuracy: 1.0000 - categorical_crossentropy: 0.0589 - precision_4: 1.0000\n",
      "Обучение на образце №25  y=[0. 1. 0.]\n",
      "Epoch 1/5\n",
      "1/1 [==============================] - 0s 8ms/step - loss: 0.0584 - categorical_accuracy: 1.0000 - categorical_crossentropy: 0.0584 - precision_4: 1.0000\n",
      "Epoch 2/5\n",
      "1/1 [==============================] - 0s 6ms/step - loss: 0.0581 - categorical_accuracy: 1.0000 - categorical_crossentropy: 0.0581 - precision_4: 1.0000\n",
      "Epoch 3/5\n",
      "1/1 [==============================] - 0s 5ms/step - loss: 0.0578 - categorical_accuracy: 1.0000 - categorical_crossentropy: 0.0578 - precision_4: 1.0000\n",
      "Epoch 4/5\n",
      "1/1 [==============================] - 0s 6ms/step - loss: 0.0574 - categorical_accuracy: 1.0000 - categorical_crossentropy: 0.0574 - precision_4: 1.0000\n",
      "Epoch 5/5\n",
      "1/1 [==============================] - 0s 5ms/step - loss: 0.0569 - categorical_accuracy: 1.0000 - categorical_crossentropy: 0.0569 - precision_4: 1.0000\n",
      "Обучение на образце №26  y=[0. 0. 1.]\n",
      "Epoch 1/5\n",
      "1/1 [==============================] - 0s 6ms/step - loss: 0.0564 - categorical_accuracy: 1.0000 - categorical_crossentropy: 0.0564 - precision_4: 1.0000\n",
      "Epoch 2/5\n",
      "1/1 [==============================] - 0s 5ms/step - loss: 0.0559 - categorical_accuracy: 1.0000 - categorical_crossentropy: 0.0559 - precision_4: 1.0000\n",
      "Epoch 3/5\n",
      "1/1 [==============================] - 0s 5ms/step - loss: 0.0553 - categorical_accuracy: 1.0000 - categorical_crossentropy: 0.0553 - precision_4: 1.0000\n",
      "Epoch 4/5\n",
      "1/1 [==============================] - 0s 22ms/step - loss: 0.0546 - categorical_accuracy: 1.0000 - categorical_crossentropy: 0.0546 - precision_4: 1.0000\n",
      "Epoch 5/5\n",
      "1/1 [==============================] - 0s 5ms/step - loss: 0.0539 - categorical_accuracy: 1.0000 - categorical_crossentropy: 0.0539 - precision_4: 1.0000\n",
      "Обучение на образце №27  y=[1. 0. 0.]\n",
      "Epoch 1/5\n",
      "1/1 [==============================] - 0s 6ms/step - loss: 0.0474 - categorical_accuracy: 1.0000 - categorical_crossentropy: 0.0474 - precision_4: 1.0000\n",
      "Epoch 2/5\n",
      "1/1 [==============================] - 0s 5ms/step - loss: 0.0473 - categorical_accuracy: 1.0000 - categorical_crossentropy: 0.0473 - precision_4: 1.0000\n",
      "Epoch 3/5\n",
      "1/1 [==============================] - 0s 5ms/step - loss: 0.0471 - categorical_accuracy: 1.0000 - categorical_crossentropy: 0.0471 - precision_4: 1.0000\n",
      "Epoch 4/5\n",
      "1/1 [==============================] - 0s 5ms/step - loss: 0.0467 - categorical_accuracy: 1.0000 - categorical_crossentropy: 0.0467 - precision_4: 1.0000\n",
      "Epoch 5/5\n",
      "1/1 [==============================] - 0s 4ms/step - loss: 0.0462 - categorical_accuracy: 1.0000 - categorical_crossentropy: 0.0462 - precision_4: 1.0000\n",
      "Обучение на образце №28  y=[1. 0. 0.]\n",
      "Epoch 1/5\n",
      "1/1 [==============================] - 0s 7ms/step - loss: 0.0456 - categorical_accuracy: 1.0000 - categorical_crossentropy: 0.0456 - precision_4: 1.0000\n",
      "Epoch 2/5\n",
      "1/1 [==============================] - 0s 5ms/step - loss: 0.0449 - categorical_accuracy: 1.0000 - categorical_crossentropy: 0.0449 - precision_4: 1.0000\n",
      "Epoch 3/5\n",
      "1/1 [==============================] - 0s 5ms/step - loss: 0.0441 - categorical_accuracy: 1.0000 - categorical_crossentropy: 0.0441 - precision_4: 1.0000\n",
      "Epoch 4/5\n",
      "1/1 [==============================] - 0s 6ms/step - loss: 0.0432 - categorical_accuracy: 1.0000 - categorical_crossentropy: 0.0432 - precision_4: 1.0000\n",
      "Epoch 5/5\n",
      "1/1 [==============================] - 0s 5ms/step - loss: 0.0423 - categorical_accuracy: 1.0000 - categorical_crossentropy: 0.0423 - precision_4: 1.0000\n",
      "Обучение на образце №29  y=[1. 0. 0.]\n",
      "Epoch 1/5\n",
      "1/1 [==============================] - 0s 7ms/step - loss: 0.0413 - categorical_accuracy: 1.0000 - categorical_crossentropy: 0.0413 - precision_4: 1.0000\n",
      "Epoch 2/5\n",
      "1/1 [==============================] - 0s 5ms/step - loss: 0.0403 - categorical_accuracy: 1.0000 - categorical_crossentropy: 0.0403 - precision_4: 1.0000\n",
      "Epoch 3/5\n",
      "1/1 [==============================] - 0s 6ms/step - loss: 0.0393 - categorical_accuracy: 1.0000 - categorical_crossentropy: 0.0393 - precision_4: 1.0000\n",
      "Epoch 4/5\n",
      "1/1 [==============================] - 0s 5ms/step - loss: 0.0383 - categorical_accuracy: 1.0000 - categorical_crossentropy: 0.0383 - precision_4: 1.0000\n",
      "Epoch 5/5\n",
      "1/1 [==============================] - 0s 4ms/step - loss: 0.0373 - categorical_accuracy: 1.0000 - categorical_crossentropy: 0.0373 - precision_4: 1.0000\n",
      "Обучение на образце №30  y=[1. 0. 0.]\n",
      "Epoch 1/5\n",
      "1/1 [==============================] - 0s 6ms/step - loss: 0.0363 - categorical_accuracy: 1.0000 - categorical_crossentropy: 0.0363 - precision_4: 1.0000\n",
      "Epoch 2/5\n",
      "1/1 [==============================] - 0s 5ms/step - loss: 0.0353 - categorical_accuracy: 1.0000 - categorical_crossentropy: 0.0353 - precision_4: 1.0000\n",
      "Epoch 3/5\n",
      "1/1 [==============================] - 0s 5ms/step - loss: 0.0343 - categorical_accuracy: 1.0000 - categorical_crossentropy: 0.0343 - precision_4: 1.0000\n",
      "Epoch 4/5\n",
      "1/1 [==============================] - 0s 5ms/step - loss: 0.0333 - categorical_accuracy: 1.0000 - categorical_crossentropy: 0.0333 - precision_4: 1.0000\n",
      "Epoch 5/5\n",
      "1/1 [==============================] - 0s 5ms/step - loss: 0.0324 - categorical_accuracy: 1.0000 - categorical_crossentropy: 0.0324 - precision_4: 1.0000\n"
     ]
    },
    {
     "data": {
      "image/png": "[encoded data removed]",
      "text/plain": [
       "<Figure size 1400x500 with 1 Axes>"
      ]
     },
     "metadata": {},
     "output_type": "display_data"
    }
   ],
   "source": [
    "with tf.device('/CPU:0'):\n",
    "    for index in range(0, X_train.shape[0]):\n",
    "        print(f\"Обучение на образце №{index}  y={y_train[index]}\")\n",
    "\n",
    "        # получение массива пикселей выбранного единственного изображения\n",
    "        singleImg_X = X_train[index]; # print(singleImg_X.shape)\n",
    "        singleImg_y = y_train[index]; # print(singleImg_y.shape)\n",
    "\n",
    "        # # Вывод выбранного изображения в графическом виде\n",
    "        # plt.imshow(singleImg_X, cmap='gray')\n",
    "        # plt.subplots_adjust(wspace=0.2, hspace=0.2)\n",
    "        # plt.axis(True)\n",
    "        # plt.title(f\"Номер изобр.={index}, класс={singleImg_y}\")\n",
    "\n",
    "        # переупаковка единственного изображения для подачи на вход НС\n",
    "        # (28, 28) -> (1, 28, 28)\n",
    "        singleImg_X = singleImg_X.reshape(1, 28, 28) ; # print(singleImg_X.shape)\n",
    "        singleImg_y = singleImg_y.reshape(1,3)       ; # print(singleImg_y.shape)\n",
    "\n",
    "        ###########################################\n",
    "        #▼▼▼▼▼▼▼▼▼▼▼▼▼▼▼▼▼▼▼▼▼▼▼▼▼▼▼▼▼▼▼▼▼▼▼▼▼▼▼▼▼▼\n",
    "        # 3) Обучение/продолжение обучения сети -------------------\n",
    "        history = model.fit(\n",
    "            singleImg_X,  # обучающие X,  размер (1, 28, 28)\n",
    "            singleImg_y,  # обучающие Y,\n",
    "            epochs=5,     # кол-во эпох обучения\n",
    "            batch_size=1, # кол-во образцов в каждой эпохе\n",
    "            #validation_data=[ # опционально проверочные X и Y\n",
    "            #    X_test,\n",
    "            #    y_test, ],\n",
    "        )\n",
    "        #▲▲▲▲▲▲▲▲▲▲▲▲▲▲▲▲▲▲▲▲▲▲▲▲▲▲▲▲▲▲▲▲▲▲▲▲▲▲▲▲▲▲\n",
    "        ###########################################\n",
    "\n",
    "        # Сбор и дополнение полной истории обучения\n",
    "        totalHistoryLossTrain.extend(history.history['loss'])\n",
    "        if 'val_loss' in history.history.keys():\n",
    "            totalHistoryLossTest.extend(history.history['val_loss'])\n",
    "\n",
    "    # После обучения ----------------------------------------------\n",
    "    # Отобразить график изменения оценки потерь по эпохам обучения\n",
    "    plt.figure(figsize=(14,5))\n",
    "    plt.plot(totalHistoryLossTrain, label='train')\n",
    "    if 'val_loss' in history.history.keys():\n",
    "        plt.plot(totalHistoryLossTest, label='test')\n",
    "    plt.legend()\n",
    "    plt.title(\"История изменений оценки потерь (LossVal)\")\n",
    "    plt.ylabel(\"Оценка потерь\")\n",
    "    plt.xlabel(\"Эпохи обучения\")\n",
    "    ###plt.ylim ( (0, 0.03) ) # область видимости для оси \"Оценки потерь\""
   ]
  },
  {
   "cell_type": "code",
   "execution_count": 113,
   "id": "87ba60c5-2296-4315-8a74-8f3723273fca",
   "metadata": {
    "id": "87ba60c5-2296-4315-8a74-8f3723273fca"
   },
   "outputs": [],
   "source": [
    "# Осмотреть список значений оценки потерь по эпохам\n",
    "# totalHistoryLossTrain"
   ]
  },
  {
   "cell_type": "code",
   "execution_count": null,
   "id": "2322b181-2b29-4cfc-89aa-b8a69943ca0a",
   "metadata": {
    "id": "2322b181-2b29-4cfc-89aa-b8a69943ca0a"
   },
   "outputs": [],
   "source": []
  },
  {
   "cell_type": "markdown",
   "id": "3cde47b5-43e5-4201-9c57-45730ed2aa3a",
   "metadata": {
    "id": "3cde47b5-43e5-4201-9c57-45730ed2aa3a"
   },
   "source": [
    "### Опрос НС одиночными изображениями"
   ]
  },
  {
   "cell_type": "code",
   "execution_count": 114,
   "id": "f703ac18-5378-459f-a30d-46be9e77956b",
   "metadata": {
    "colab": {
     "base_uri": "https://localhost:8080/"
    },
    "executionInfo": {
     "elapsed": 29,
     "status": "ok",
     "timestamp": 1694723645834,
     "user": {
      "displayName": "Иван Осипенко",
      "userId": "16599116897440604411"
     },
     "user_tz": -420
    },
    "id": "f703ac18-5378-459f-a30d-46be9e77956b",
    "outputId": "ed12c02c-2f45-4de8-d23f-effa7669d758"
   },
   "outputs": [
    {
     "data": {
      "text/plain": [
       "14"
      ]
     },
     "execution_count": 114,
     "metadata": {},
     "output_type": "execute_result"
    }
   ],
   "source": [
    "X_test.shape[0]"
   ]
  },
  {
   "cell_type": "code",
   "execution_count": 115,
   "id": "13e04904-c442-4b38-ac02-7a4058c3a05a",
   "metadata": {
    "colab": {
     "base_uri": "https://localhost:8080/",
     "height": 311
    },
    "executionInfo": {
     "elapsed": 26,
     "status": "ok",
     "timestamp": 1694723645837,
     "user": {
      "displayName": "Иван Осипенко",
      "userId": "16599116897440604411"
     },
     "user_tz": -420
    },
    "id": "13e04904-c442-4b38-ac02-7a4058c3a05a",
    "outputId": "ccd80c93-331d-420c-b3f9-b64536790733"
   },
   "outputs": [
    {
     "name": "stdout",
     "output_type": "stream",
     "text": [
      "Выбрано изображение № 2 из 14\n",
      "Размер изображения: (28, 28)\n"
     ]
    },
    {
     "data": {
      "image/png": "[encoded data removed]",
      "text/plain": [
       "<Figure size 250x250 with 1 Axes>"
      ]
     },
     "metadata": {},
     "output_type": "display_data"
    }
   ],
   "source": [
    "index =2\n",
    "print(f'Выбрано изображение № {index} из {X_test.shape[0]}')\n",
    "\n",
    "# Опрос модели\n",
    "with tf.device('/CPU:0'):\n",
    "    # Получение массива пикселей выбранного изображения\n",
    "    singleImg_X = X_test[index]\n",
    "    singleImg_y = y_test[index]\n",
    "    print(\"Размер изображения:\", singleImg_X.shape)\n",
    "    #print(\"Размер массива y с ожидаемым ответом:\", singleImg_y.shape)\n",
    "\n",
    "    # Вывод выбранного изображения в графическом виде\n",
    "    plt.figure(figsize=(2.5,2.5))\n",
    "    plt.imshow(singleImg_X, cmap='gray')\n",
    "    plt.subplots_adjust(wspace=0.2, hspace=0.2)\n",
    "    plt.axis(True)\n",
    "    plt.title(f\"Номер изобр.={index}, Фактический класс: y={singleImg_y}\")\n",
    "    plt.show()"
   ]
  },
  {
   "cell_type": "code",
   "execution_count": 116,
   "id": "c19713e9-7380-485f-948c-a950349d034f",
   "metadata": {
    "colab": {
     "base_uri": "https://localhost:8080/"
    },
    "executionInfo": {
     "elapsed": 1179,
     "status": "ok",
     "timestamp": 1694723647736,
     "user": {
      "displayName": "Иван Осипенко",
      "userId": "16599116897440604411"
     },
     "user_tz": -420
    },
    "id": "c19713e9-7380-485f-948c-a950349d034f",
    "outputId": "e2690b89-4bad-4a24-f32c-eab112678baa"
   },
   "outputs": [
    {
     "name": "stdout",
     "output_type": "stream",
     "text": [
      "Размер изображения: (1, 28, 28)\n",
      "Размер массива y с ожидаемым ответом: (3,)\n",
      "1/1 [==============================] - 0s 50ms/step\n",
      "\n",
      "Ожидаемый ответ: [0. 1. 0.]\n",
      "Ответ НС: [[0.02889525 0.94667774 0.02442696]]\n",
      "Вероятность принадлежности к каждому классу:\n",
      "  Класс_0: вероятность    2.9%\n",
      "  Класс_1: вероятность   94.7%\n",
      "  Класс_2: вероятность    2.4%\n"
     ]
    }
   ],
   "source": [
    "# Опрос модели\n",
    "with tf.device('/CPU:0'):\n",
    "    # Переупаковка единственного изображения для подачи на вход НС\n",
    "    # (28, 28) -> (1, 28, 28)\n",
    "    singleImg_X = singleImg_X.reshape(1, 28, 28)\n",
    "    print(\"Размер изображения:\", singleImg_X.shape)\n",
    "    print(\"Размер массива y с ожидаемым ответом:\", singleImg_y.shape)\n",
    "\n",
    "\n",
    "    # Вызов ф. predict - вычисление одиночного ответа\n",
    "    y_pred = model.predict(singleImg_X.reshape(1, 28, 28))\n",
    "    print()\n",
    "    print(f'Ожидаемый ответ: {singleImg_y}')\n",
    "    print(f'Ответ НС: {y_pred}')\n",
    "\n",
    "    print('Вероятность принадлежности к каждому классу:')\n",
    "    for i, probability in enumerate(y_pred[0]):\n",
    "        print(f'  Класс_{i}: вероятность {probability:>7.1%}' )"
   ]
  },
  {
   "cell_type": "code",
   "execution_count": null,
   "id": "11bc25c6-ab8b-4364-8596-48752b177bef",
   "metadata": {
    "id": "11bc25c6-ab8b-4364-8596-48752b177bef"
   },
   "outputs": [],
   "source": []
  },
  {
   "cell_type": "code",
   "execution_count": null,
   "id": "ecc0b8aa-e9d4-461c-bdf1-9a9eaeee269b",
   "metadata": {
    "id": "ecc0b8aa-e9d4-461c-bdf1-9a9eaeee269b"
   },
   "outputs": [],
   "source": []
  },
  {
   "cell_type": "markdown",
   "id": "bcddcf86-f860-439c-af77-25f890e0d73f",
   "metadata": {
    "id": "bcddcf86-f860-439c-af77-25f890e0d73f"
   },
   "source": [
    "### Оценка общей точности"
   ]
  },
  {
   "cell_type": "code",
   "execution_count": 117,
   "id": "1d125fa5-84b2-4b60-a106-5f07e0cb3309",
   "metadata": {
    "colab": {
     "base_uri": "https://localhost:8080/"
    },
    "executionInfo": {
     "elapsed": 27,
     "status": "ok",
     "timestamp": 1694723648337,
     "user": {
      "displayName": "Иван Осипенко",
      "userId": "16599116897440604411"
     },
     "user_tz": -420
    },
    "id": "1d125fa5-84b2-4b60-a106-5f07e0cb3309",
    "outputId": "77d75e1e-2f03-4c04-ecfd-a9f05011ecae"
   },
   "outputs": [
    {
     "data": {
      "text/plain": [
       "(14, 28, 28)"
      ]
     },
     "execution_count": 117,
     "metadata": {},
     "output_type": "execute_result"
    }
   ],
   "source": [
    "X_test.shape"
   ]
  },
  {
   "cell_type": "code",
   "execution_count": 118,
   "id": "92d5062f-7b07-441c-b8b3-dee7d9e0b6f7",
   "metadata": {
    "colab": {
     "base_uri": "https://localhost:8080/"
    },
    "executionInfo": {
     "elapsed": 517,
     "status": "ok",
     "timestamp": 1694723648834,
     "user": {
      "displayName": "Иван Осипенко",
      "userId": "16599116897440604411"
     },
     "user_tz": -420
    },
    "id": "92d5062f-7b07-441c-b8b3-dee7d9e0b6f7",
    "outputId": "c9ae3f08-6af4-4ee0-8a2e-6ace8653eba5"
   },
   "outputs": [
    {
     "name": "stdout",
     "output_type": "stream",
     "text": [
      "Вычисление ответов - вызов model.predict(X)\n",
      "1/1 [==============================] - 0s 18ms/step\n",
      "\n",
      "Ответы модели (вероятности принадлежности) на все предъявленные образцы:\n",
      "[['  3.28%' '  1.81%' ' 94.91%']\n",
      " ['  3.28%' '  1.81%' ' 94.91%']\n",
      " ['  2.89%' ' 94.67%' '  2.44%']\n",
      " ['  3.28%' '  1.81%' ' 94.91%']\n",
      " ['  2.90%' ' 94.66%' '  2.44%']\n",
      " ['  3.28%' '  1.81%' ' 94.91%']\n",
      " [' 96.90%' '  1.20%' '  1.90%']\n",
      " ['  3.26%' '  1.83%' ' 94.91%']\n",
      " ['  2.89%' ' 94.67%' '  2.44%']\n",
      " [' 96.90%' '  1.20%' '  1.90%']\n",
      " [' 96.90%' '  1.20%' '  1.90%']\n",
      " ['  2.89%' ' 94.67%' '  2.44%']\n",
      " ['  2.90%' ' 94.66%' '  2.44%']\n",
      " [' 96.90%' '  1.20%' '  1.90%']]\n"
     ]
    },
    {
     "name": "stderr",
     "output_type": "stream",
     "text": [
      "C:\\Users\\User\\AppData\\Local\\Temp\\ipykernel_19040\\2575325105.py:8: FutureWarning: DataFrame.applymap has been deprecated. Use DataFrame.map instead.\n",
      "  print(pd.DataFrame(y_pred_all).applymap(lambda x: '{:>7.2%}'.format(x)).values) # Форматированный вывод\n"
     ]
    }
   ],
   "source": [
    "# Опрос модели\n",
    "with tf.device('/CPU:0'):\n",
    "    print('Вычисление ответов - вызов model.predict(X)')\n",
    "    y_pred_all = model.predict(X_test)\n",
    "\n",
    "    print(f'\\nОтветы модели (вероятности принадлежности) на все предъявленные образцы:')\n",
    "    #print(y_pred_all) # Вывод сырых значений\n",
    "    print(pd.DataFrame(y_pred_all).applymap(lambda x: '{:>7.2%}'.format(x)).values) # Форматированный вывод"
   ]
  },
  {
   "cell_type": "code",
   "execution_count": 119,
   "id": "aeccf3cf-252f-495e-81d1-2bb748fa2435",
   "metadata": {
    "colab": {
     "base_uri": "https://localhost:8080/"
    },
    "executionInfo": {
     "elapsed": 8,
     "status": "ok",
     "timestamp": 1694723652098,
     "user": {
      "displayName": "Иван Осипенко",
      "userId": "16599116897440604411"
     },
     "user_tz": -420
    },
    "id": "aeccf3cf-252f-495e-81d1-2bb748fa2435",
    "outputId": "69e8878e-2b82-4071-ecb9-8bf5980ff0bf"
   },
   "outputs": [
    {
     "name": "stdout",
     "output_type": "stream",
     "text": [
      "\n",
      "Вычисленный y_pred_all:\n",
      "Получить из вероятностей заключения (номер класса с максимальной вероятностью)\n",
      "tf.Tensor([2 2 1 2 1 2 0 2 1 0 0 1 1 0], shape=(14,), dtype=int64)\n"
     ]
    }
   ],
   "source": [
    "print(f'\\nВычисленный y_pred_all:\\nПолучить из вероятностей заключения (номер класса с максимальной вероятностью)')\n",
    "y_pred_all_labels = tf.argmax(y_pred_all, axis=1)\n",
    "print(y_pred_all_labels)"
   ]
  },
  {
   "cell_type": "markdown",
   "id": "f41c8f72-2955-48d6-9961-c0549a6cd0cd",
   "metadata": {
    "id": "f41c8f72-2955-48d6-9961-c0549a6cd0cd"
   },
   "source": [
    "Схожим образом получим массив `y_test_all_labels` с информацией об ожидаемых (проверочных) ответах."
   ]
  },
  {
   "cell_type": "code",
   "execution_count": 120,
   "id": "58c4280b-4848-48e7-a23e-03c00e7c3b91",
   "metadata": {
    "colab": {
     "base_uri": "https://localhost:8080/"
    },
    "executionInfo": {
     "elapsed": 6,
     "status": "ok",
     "timestamp": 1694723653909,
     "user": {
      "displayName": "Иван Осипенко",
      "userId": "16599116897440604411"
     },
     "user_tz": -420
    },
    "id": "58c4280b-4848-48e7-a23e-03c00e7c3b91",
    "outputId": "c01951f8-642c-4d89-9f26-1d7ad12774b2"
   },
   "outputs": [
    {
     "data": {
      "text/plain": [
       "array([[0., 0., 1.],\n",
       "       [0., 0., 1.],\n",
       "       [0., 1., 0.],\n",
       "       [0., 0., 1.],\n",
       "       [0., 1., 0.],\n",
       "       [0., 0., 1.],\n",
       "       [1., 0., 0.],\n",
       "       [0., 0., 1.],\n",
       "       [0., 1., 0.],\n",
       "       [1., 0., 0.],\n",
       "       [1., 0., 0.],\n",
       "       [0., 1., 0.],\n",
       "       [0., 1., 0.],\n",
       "       [1., 0., 0.]], dtype=float32)"
      ]
     },
     "execution_count": 120,
     "metadata": {},
     "output_type": "execute_result"
    }
   ],
   "source": [
    "y_test"
   ]
  },
  {
   "cell_type": "code",
   "execution_count": 121,
   "id": "c1c684d3-fbbb-45c0-8c57-071333612ed9",
   "metadata": {
    "colab": {
     "base_uri": "https://localhost:8080/"
    },
    "executionInfo": {
     "elapsed": 10,
     "status": "ok",
     "timestamp": 1694723655990,
     "user": {
      "displayName": "Иван Осипенко",
      "userId": "16599116897440604411"
     },
     "user_tz": -420
    },
    "id": "c1c684d3-fbbb-45c0-8c57-071333612ed9",
    "outputId": "f8dd35e8-37cb-4bbf-c878-f53d3b97a810"
   },
   "outputs": [
    {
     "name": "stdout",
     "output_type": "stream",
     "text": [
      "\n",
      "Ожидаемый y_train:\n",
      "Получить из вероятностей заключения (номер класса с максимальной вероятностью)\n",
      "tf.Tensor([2 2 1 2 1 2 0 2 1 0 0 1 1 0], shape=(14,), dtype=int64)\n"
     ]
    }
   ],
   "source": [
    "print(f'\\nОжидаемый y_train:\\nПолучить из вероятностей заключения (номер класса с максимальной вероятностью)')\n",
    "y_test_all_labels = tf.argmax(y_test, axis=1)\n",
    "print(y_test_all_labels)"
   ]
  },
  {
   "cell_type": "code",
   "execution_count": 122,
   "id": "39a24ee5-a546-467c-a5d2-0a297e8b021a",
   "metadata": {
    "colab": {
     "base_uri": "https://localhost:8080/",
     "height": 597
    },
    "executionInfo": {
     "elapsed": 348,
     "status": "ok",
     "timestamp": 1694723663998,
     "user": {
      "displayName": "Иван Осипенко",
      "userId": "16599116897440604411"
     },
     "user_tz": -420
    },
    "id": "39a24ee5-a546-467c-a5d2-0a297e8b021a",
    "outputId": "52c943e3-d605-46c8-8b61-530e9281b715"
   },
   "outputs": [
    {
     "name": "stdout",
     "output_type": "stream",
     "text": [
      "tf.Tensor(\n",
      "[[4 0 0]\n",
      " [0 5 0]\n",
      " [0 0 5]], shape=(3, 3), dtype=int32)\n"
     ]
    },
    {
     "data": {
      "image/png": "[encoded data removed]",
      "text/plain": [
       "<Figure size 400x400 with 2 Axes>"
      ]
     },
     "metadata": {},
     "output_type": "display_data"
    },
    {
     "name": "stdout",
     "output_type": "stream",
     "text": [
      "Вывести информацию о соответствии классов проверочных образцов\n",
      "  Изобр. № 0, Фактический Класс_2, Вычисленный Класс_2 вероятность 94.91% \n",
      "  Изобр. № 1, Фактический Класс_2, Вычисленный Класс_2 вероятность 94.91% \n",
      "  Изобр. № 2, Фактический Класс_1, Вычисленный Класс_1 вероятность 94.67% \n",
      "  Изобр. № 3, Фактический Класс_2, Вычисленный Класс_2 вероятность 94.91% \n",
      "  Изобр. № 4, Фактический Класс_1, Вычисленный Класс_1 вероятность 94.66% \n",
      "  Изобр. № 5, Фактический Класс_2, Вычисленный Класс_2 вероятность 94.91% \n",
      "  Изобр. № 6, Фактический Класс_0, Вычисленный Класс_0 вероятность 96.90% \n",
      "  Изобр. № 7, Фактический Класс_2, Вычисленный Класс_2 вероятность 94.91% \n",
      "  Изобр. № 8, Фактический Класс_1, Вычисленный Класс_1 вероятность 94.67% \n",
      "  Изобр. № 9, Фактический Класс_0, Вычисленный Класс_0 вероятность 96.90% \n",
      "  Изобр. № 10, Фактический Класс_0, Вычисленный Класс_0 вероятность 96.90% \n",
      "  Изобр. № 11, Фактический Класс_1, Вычисленный Класс_1 вероятность 94.67% \n",
      "  Изобр. № 12, Фактический Класс_1, Вычисленный Класс_1 вероятность 94.66% \n",
      "  Изобр. № 13, Фактический Класс_0, Вычисленный Класс_0 вероятность 96.90% \n"
     ]
    }
   ],
   "source": [
    "# Создать матрицу ошибок как массив\n",
    "cm = tf.math.confusion_matrix(\n",
    "    labels      =y_test_all_labels, # ожидаемые/проверочные метки классов\n",
    "    predictions =y_pred_all_labels,  # вычисленные метки классов\n",
    ")\n",
    "print(cm)\n",
    "\n",
    "# Отобразить матрицу ошибок в графическом виде\n",
    "plt.figure(figsize=[4,4])\n",
    "sns.heatmap(cm, annot=True, fmt='d', annot_kws={\"size\": 14}, square = True)\n",
    "plt.xlabel('Вычисленный класс')\n",
    "plt.ylabel('Ожидаемый класс')\n",
    "plt.title('Матрица ошибок')\n",
    "plt.show()\n",
    "\n",
    "print ('Вывести информацию о соответствии классов проверочных образцов')\n",
    "for i, (y_test_val, y_pred_val ) in enumerate (\n",
    "                                      zip (  y_test_all_labels.numpy(),\n",
    "                                             y_pred_all_labels.numpy())\n",
    "                                    ):\n",
    "  print(f'  Изобр. № {i}, Фактический Класс_{y_test_val}, Вычисленный Класс_{y_pred_val} вероятность {y_pred_all[i][y_pred_val]:.2%} ',end='')\n",
    "  if y_test_val!=y_pred_val:\n",
    "    print('!!!Ошибка!!!',end='')\n",
    "  print()\n"
   ]
  },
  {
   "cell_type": "code",
   "execution_count": null,
   "id": "cVe1GtAsSwq4",
   "metadata": {
    "id": "cVe1GtAsSwq4"
   },
   "outputs": [],
   "source": []
  },
  {
   "cell_type": "markdown",
   "id": "LAyh4hIQBVch",
   "metadata": {
    "id": "LAyh4hIQBVch"
   },
   "source": [
    "### Опрос модели прямым вводом изображений"
   ]
  },
  {
   "cell_type": "code",
   "execution_count": 125,
   "id": "WsCfG99vBgON",
   "metadata": {
    "id": "WsCfG99vBgON"
   },
   "outputs": [
    {
     "name": "stdout",
     "output_type": "stream",
     "text": [
      "Найдена диретория D:\\NS\\imgs\n",
      "Режим распознования нарисованного изображения\n",
      "1/1 [==============================] - 0s 16ms/step\n",
      "1/1 [==============================] - 0s 17ms/step\n",
      "1/1 [==============================] - 0s 16ms/step\n",
      "1/1 [==============================] - 0s 18ms/step\n",
      "1/1 [==============================] - 0s 18ms/step\n",
      "1/1 [==============================] - 0s 16ms/step\n",
      "1/1 [==============================] - 0s 16ms/step\n",
      "1/1 [==============================] - 0s 15ms/step\n",
      "1/1 [==============================] - 0s 16ms/step\n"
     ]
    },
    {
     "data": {
      "text/plain": [
       "<__main__.myWinTK at 0x19caae61b20>"
      ]
     },
     "execution_count": 125,
     "metadata": {},
     "output_type": "execute_result"
    }
   ],
   "source": [
    "#Создать экземпляр окна и отобразить\n",
    "# передать в качестве параметра обученную модель НС\n",
    "myWinTK ( modelForPredict=model)"
   ]
  }
 ],
 "metadata": {
  "colab": {
   "provenance": []
  },
  "kernelspec": {
   "display_name": "Python 3 (ipykernel)",
   "language": "python",
   "name": "python3"
  },
  "language_info": {
   "codemirror_mode": {
    "name": "ipython",
    "version": 3
   },
   "file_extension": ".py",
   "mimetype": "text/x-python",
   "name": "python",
   "nbconvert_exporter": "python",
   "pygments_lexer": "ipython3",
   "version": "3.11.9"
  }
 },
 "nbformat": 4,
 "nbformat_minor": 5
}
